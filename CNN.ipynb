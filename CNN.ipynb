{
  "cells": [
    {
      "cell_type": "code",
      "execution_count": null,
      "id": "c826e117",
      "metadata": {
        "id": "c826e117"
      },
      "outputs": [],
      "source": [
        "import pandas as pd\n",
        "import tensorflow as tf\n",
        "from tensorflow.keras.preprocessing.text import Tokenizer\n",
        "from tensorflow.keras.preprocessing.sequence import pad_sequences\n",
        "from sklearn.model_selection import train_test_split"
      ]
    },
    {
      "cell_type": "code",
      "execution_count": null,
      "id": "9e3689de",
      "metadata": {
        "id": "9e3689de"
      },
      "outputs": [],
      "source": [
        "# Load the dataset\n",
        "data = pd.read_csv(r'C:\\Users\\USER\\Downloads\\data.csv')\n"
      ]
    },
    {
      "cell_type": "code",
      "execution_count": null,
      "id": "1fb4e0f0",
      "metadata": {
        "id": "1fb4e0f0"
      },
      "outputs": [],
      "source": [
        "import pandas as pd\n",
        "import numpy as np\n",
        "import matplotlib.pyplot as plt\n",
        "import seaborn as sns\n",
        "\n",
        "# System libraries\n",
        "import time\n",
        "from datetime import datetime\n",
        "from random import randint\n",
        "\n",
        "\n",
        "# Tensorflow\n",
        "import tensorflow as tf\n",
        "from tensorflow.keras.models import Sequential\n",
        "from tensorflow import keras\n",
        "\n",
        "from statsmodels.tsa.seasonal import seasonal_decompose\n",
        "\n",
        "\n",
        "\n",
        "# import for improving a colorbar\n",
        "from matplotlib.colors import rgb2hex, Normalize;\n",
        "from matplotlib import rcParams\n",
        "\n",
        "# Machine learning imports\n",
        "from sklearn.preprocessing import LabelEncoder, StandardScaler;\n",
        "from sklearn.model_selection import train_test_split\n",
        "from sklearn.model_selection import TimeSeriesSplit, cross_validate;\n",
        "from sklearn.linear_model import LinearRegression, SGDRegressor, Ridge;\n",
        "from sklearn.tree import DecisionTreeRegressor\n",
        "from sklearn.ensemble import RandomForestRegressor\n",
        "from sklearn.neighbors import KNeighborsRegressor\n",
        "from sklearn.svm import SVR, LinearSVR;\n",
        "from sklearn.pipeline import Pipeline\n",
        "from sklearn.base import clone\n",
        "from sklearn.metrics import mean_squared_error, r2_score;\n",
        "\n",
        "# Statistical aids\n",
        "from scipy.stats import kurtosis, skew;\n",
        "\n",
        "import warnings\n",
        "warnings.filterwarnings(\"ignore\")"
      ]
    },
    {
      "cell_type": "code",
      "execution_count": null,
      "id": "db6370c3",
      "metadata": {
        "id": "db6370c3",
        "outputId": "945e02b9-3099-41fc-ad9f-1641d3e1b13f"
      },
      "outputs": [
        {
          "name": "stdout",
          "output_type": "stream",
          "text": [
            "<class 'pandas.core.frame.DataFrame'>\n",
            "RangeIndex: 1365217 entries, 0 to 1365216\n",
            "Data columns (total 13 columns):\n",
            " #   Column              Non-Null Count    Dtype  \n",
            "---  ------              --------------    -----  \n",
            " 0   rev_id              1365217 non-null  int64  \n",
            " 1   comment             1365217 non-null  object \n",
            " 2   year                1365217 non-null  int64  \n",
            " 3   logged_in           1365217 non-null  bool   \n",
            " 4   ns                  1365217 non-null  object \n",
            " 5   sample              1365217 non-null  object \n",
            " 6   split               1365217 non-null  object \n",
            " 7   worker_id           1365217 non-null  int64  \n",
            " 8   quoting_attack      1365217 non-null  float64\n",
            " 9   recipient_attack    1365217 non-null  float64\n",
            " 10  third_party_attack  1365217 non-null  float64\n",
            " 11  other_attack        1365217 non-null  float64\n",
            " 12  attack              1365217 non-null  float64\n",
            "dtypes: bool(1), float64(5), int64(3), object(4)\n",
            "memory usage: 126.3+ MB\n"
          ]
        }
      ],
      "source": [
        "data.info()"
      ]
    },
    {
      "cell_type": "code",
      "execution_count": null,
      "id": "746c2aba",
      "metadata": {
        "id": "746c2aba",
        "outputId": "0c3e2d22-4d3c-45cd-9abe-167c9d56f197"
      },
      "outputs": [
        {
          "data": {
            "text/html": [
              "<style type=\"text/css\">\n",
              "#T_9aa5c_row0_col0, #T_9aa5c_row0_col1, #T_9aa5c_row0_col2, #T_9aa5c_row0_col3, #T_9aa5c_row0_col4, #T_9aa5c_row0_col5, #T_9aa5c_row0_col6, #T_9aa5c_row0_col7, #T_9aa5c_row0_col8, #T_9aa5c_row0_col9, #T_9aa5c_row0_col10, #T_9aa5c_row0_col11, #T_9aa5c_row0_col12, #T_9aa5c_row1_col0, #T_9aa5c_row1_col1, #T_9aa5c_row1_col2, #T_9aa5c_row1_col3, #T_9aa5c_row1_col4, #T_9aa5c_row1_col5, #T_9aa5c_row1_col6, #T_9aa5c_row1_col7, #T_9aa5c_row1_col8, #T_9aa5c_row1_col9, #T_9aa5c_row1_col10, #T_9aa5c_row1_col11, #T_9aa5c_row1_col12, #T_9aa5c_row2_col0, #T_9aa5c_row2_col1, #T_9aa5c_row2_col2, #T_9aa5c_row2_col3, #T_9aa5c_row2_col4, #T_9aa5c_row2_col5, #T_9aa5c_row2_col6, #T_9aa5c_row2_col7, #T_9aa5c_row2_col8, #T_9aa5c_row2_col9, #T_9aa5c_row2_col10, #T_9aa5c_row2_col11, #T_9aa5c_row2_col12, #T_9aa5c_row3_col0, #T_9aa5c_row3_col1, #T_9aa5c_row3_col2, #T_9aa5c_row3_col3, #T_9aa5c_row3_col4, #T_9aa5c_row3_col5, #T_9aa5c_row3_col6, #T_9aa5c_row3_col7, #T_9aa5c_row3_col8, #T_9aa5c_row3_col9, #T_9aa5c_row3_col10, #T_9aa5c_row3_col11, #T_9aa5c_row3_col12, #T_9aa5c_row4_col0, #T_9aa5c_row4_col1, #T_9aa5c_row4_col2, #T_9aa5c_row4_col3, #T_9aa5c_row4_col4, #T_9aa5c_row4_col5, #T_9aa5c_row4_col6, #T_9aa5c_row4_col7, #T_9aa5c_row4_col8, #T_9aa5c_row4_col9, #T_9aa5c_row4_col10, #T_9aa5c_row4_col11, #T_9aa5c_row4_col12 {\n",
              "  background-color: cyan;\n",
              "  color: black;\n",
              "  border-color: darkblack;\n",
              "}\n",
              "</style>\n",
              "<table id=\"T_9aa5c\">\n",
              "  <thead>\n",
              "    <tr>\n",
              "      <th class=\"blank level0\" >&nbsp;</th>\n",
              "      <th id=\"T_9aa5c_level0_col0\" class=\"col_heading level0 col0\" >rev_id</th>\n",
              "      <th id=\"T_9aa5c_level0_col1\" class=\"col_heading level0 col1\" >comment</th>\n",
              "      <th id=\"T_9aa5c_level0_col2\" class=\"col_heading level0 col2\" >year</th>\n",
              "      <th id=\"T_9aa5c_level0_col3\" class=\"col_heading level0 col3\" >logged_in</th>\n",
              "      <th id=\"T_9aa5c_level0_col4\" class=\"col_heading level0 col4\" >ns</th>\n",
              "      <th id=\"T_9aa5c_level0_col5\" class=\"col_heading level0 col5\" >sample</th>\n",
              "      <th id=\"T_9aa5c_level0_col6\" class=\"col_heading level0 col6\" >split</th>\n",
              "      <th id=\"T_9aa5c_level0_col7\" class=\"col_heading level0 col7\" >worker_id</th>\n",
              "      <th id=\"T_9aa5c_level0_col8\" class=\"col_heading level0 col8\" >quoting_attack</th>\n",
              "      <th id=\"T_9aa5c_level0_col9\" class=\"col_heading level0 col9\" >recipient_attack</th>\n",
              "      <th id=\"T_9aa5c_level0_col10\" class=\"col_heading level0 col10\" >third_party_attack</th>\n",
              "      <th id=\"T_9aa5c_level0_col11\" class=\"col_heading level0 col11\" >other_attack</th>\n",
              "      <th id=\"T_9aa5c_level0_col12\" class=\"col_heading level0 col12\" >attack</th>\n",
              "    </tr>\n",
              "  </thead>\n",
              "  <tbody>\n",
              "    <tr>\n",
              "      <th id=\"T_9aa5c_level0_row0\" class=\"row_heading level0 row0\" >623381</th>\n",
              "      <td id=\"T_9aa5c_row0_col0\" class=\"data row0 col0\" >241129046</td>\n",
              "      <td id=\"T_9aa5c_row0_col1\" class=\"data row0 col1\" >NEWLINE_TOKENNEWLINE_TOKENwhat can i edit then because i didnt add anything bad and it was context.</td>\n",
              "      <td id=\"T_9aa5c_row0_col2\" class=\"data row0 col2\" >2008</td>\n",
              "      <td id=\"T_9aa5c_row0_col3\" class=\"data row0 col3\" >True</td>\n",
              "      <td id=\"T_9aa5c_row0_col4\" class=\"data row0 col4\" >user</td>\n",
              "      <td id=\"T_9aa5c_row0_col5\" class=\"data row0 col5\" >blocked</td>\n",
              "      <td id=\"T_9aa5c_row0_col6\" class=\"data row0 col6\" >train</td>\n",
              "      <td id=\"T_9aa5c_row0_col7\" class=\"data row0 col7\" >2593</td>\n",
              "      <td id=\"T_9aa5c_row0_col8\" class=\"data row0 col8\" >0.000000</td>\n",
              "      <td id=\"T_9aa5c_row0_col9\" class=\"data row0 col9\" >0.000000</td>\n",
              "      <td id=\"T_9aa5c_row0_col10\" class=\"data row0 col10\" >0.000000</td>\n",
              "      <td id=\"T_9aa5c_row0_col11\" class=\"data row0 col11\" >0.000000</td>\n",
              "      <td id=\"T_9aa5c_row0_col12\" class=\"data row0 col12\" >0.000000</td>\n",
              "    </tr>\n",
              "    <tr>\n",
              "      <th id=\"T_9aa5c_level0_row1\" class=\"row_heading level0 row1\" >919134</th>\n",
              "      <td id=\"T_9aa5c_row1_col0\" class=\"data row1 col0\" >394680558</td>\n",
              "      <td id=\"T_9aa5c_row1_col1\" class=\"data row1 col1\" >NEWLINE_TOKEN:also, i am aware of the debate about whether arab admiration of nazi ideology was because of antisemitism or as a means to counter british influence. i plan on adding information regarding this as well, researching sources now.   </td>\n",
              "      <td id=\"T_9aa5c_row1_col2\" class=\"data row1 col2\" >2010</td>\n",
              "      <td id=\"T_9aa5c_row1_col3\" class=\"data row1 col3\" >True</td>\n",
              "      <td id=\"T_9aa5c_row1_col4\" class=\"data row1 col4\" >article</td>\n",
              "      <td id=\"T_9aa5c_row1_col5\" class=\"data row1 col5\" >blocked</td>\n",
              "      <td id=\"T_9aa5c_row1_col6\" class=\"data row1 col6\" >train</td>\n",
              "      <td id=\"T_9aa5c_row1_col7\" class=\"data row1 col7\" >1942</td>\n",
              "      <td id=\"T_9aa5c_row1_col8\" class=\"data row1 col8\" >0.000000</td>\n",
              "      <td id=\"T_9aa5c_row1_col9\" class=\"data row1 col9\" >0.000000</td>\n",
              "      <td id=\"T_9aa5c_row1_col10\" class=\"data row1 col10\" >0.000000</td>\n",
              "      <td id=\"T_9aa5c_row1_col11\" class=\"data row1 col11\" >0.000000</td>\n",
              "      <td id=\"T_9aa5c_row1_col12\" class=\"data row1 col12\" >0.000000</td>\n",
              "    </tr>\n",
              "    <tr>\n",
              "      <th id=\"T_9aa5c_level0_row2\" class=\"row_heading level0 row2\" >842851</th>\n",
              "      <td id=\"T_9aa5c_row2_col0\" class=\"data row2 col0\" >352290837</td>\n",
              "      <td id=\"T_9aa5c_row2_col1\" class=\"data row2 col1\" >NEWLINE_TOKENNEWLINE_TOKENWith  same user</td>\n",
              "      <td id=\"T_9aa5c_row2_col2\" class=\"data row2 col2\" >2010</td>\n",
              "      <td id=\"T_9aa5c_row2_col3\" class=\"data row2 col3\" >False</td>\n",
              "      <td id=\"T_9aa5c_row2_col4\" class=\"data row2 col4\" >user</td>\n",
              "      <td id=\"T_9aa5c_row2_col5\" class=\"data row2 col5\" >random</td>\n",
              "      <td id=\"T_9aa5c_row2_col6\" class=\"data row2 col6\" >test</td>\n",
              "      <td id=\"T_9aa5c_row2_col7\" class=\"data row2 col7\" >950</td>\n",
              "      <td id=\"T_9aa5c_row2_col8\" class=\"data row2 col8\" >0.000000</td>\n",
              "      <td id=\"T_9aa5c_row2_col9\" class=\"data row2 col9\" >0.000000</td>\n",
              "      <td id=\"T_9aa5c_row2_col10\" class=\"data row2 col10\" >0.000000</td>\n",
              "      <td id=\"T_9aa5c_row2_col11\" class=\"data row2 col11\" >0.000000</td>\n",
              "      <td id=\"T_9aa5c_row2_col12\" class=\"data row2 col12\" >0.000000</td>\n",
              "    </tr>\n",
              "    <tr>\n",
              "      <th id=\"T_9aa5c_level0_row3\" class=\"row_heading level0 row3\" >766811</th>\n",
              "      <td id=\"T_9aa5c_row3_col0\" class=\"data row3 col0\" >311758365</td>\n",
              "      <td id=\"T_9aa5c_row3_col1\" class=\"data row3 col1\" >This page fails to explain how the creation of a Gederal Reserve System conflicts, assuming that it does, with The New Freedom.  It just tosses out a claim which should either be supported or withdrawn.</td>\n",
              "      <td id=\"T_9aa5c_row3_col2\" class=\"data row3 col2\" >2009</td>\n",
              "      <td id=\"T_9aa5c_row3_col3\" class=\"data row3 col3\" >False</td>\n",
              "      <td id=\"T_9aa5c_row3_col4\" class=\"data row3 col4\" >article</td>\n",
              "      <td id=\"T_9aa5c_row3_col5\" class=\"data row3 col5\" >blocked</td>\n",
              "      <td id=\"T_9aa5c_row3_col6\" class=\"data row3 col6\" >train</td>\n",
              "      <td id=\"T_9aa5c_row3_col7\" class=\"data row3 col7\" >2750</td>\n",
              "      <td id=\"T_9aa5c_row3_col8\" class=\"data row3 col8\" >0.000000</td>\n",
              "      <td id=\"T_9aa5c_row3_col9\" class=\"data row3 col9\" >0.000000</td>\n",
              "      <td id=\"T_9aa5c_row3_col10\" class=\"data row3 col10\" >0.000000</td>\n",
              "      <td id=\"T_9aa5c_row3_col11\" class=\"data row3 col11\" >0.000000</td>\n",
              "      <td id=\"T_9aa5c_row3_col12\" class=\"data row3 col12\" >0.000000</td>\n",
              "    </tr>\n",
              "    <tr>\n",
              "      <th id=\"T_9aa5c_level0_row4\" class=\"row_heading level0 row4\" >117900</th>\n",
              "      <td id=\"T_9aa5c_row4_col0\" class=\"data row4 col0\" >47998073</td>\n",
              "      <td id=\"T_9aa5c_row4_col1\" class=\"data row4 col1\" >NEWLINE_TOKENNEWLINE_TOKEN== Current event???? ==NEWLINE_TOKENNEWLINE_TOKENwtf is the current event about?</td>\n",
              "      <td id=\"T_9aa5c_row4_col2\" class=\"data row4 col2\" >2006</td>\n",
              "      <td id=\"T_9aa5c_row4_col3\" class=\"data row4 col3\" >True</td>\n",
              "      <td id=\"T_9aa5c_row4_col4\" class=\"data row4 col4\" >article</td>\n",
              "      <td id=\"T_9aa5c_row4_col5\" class=\"data row4 col5\" >blocked</td>\n",
              "      <td id=\"T_9aa5c_row4_col6\" class=\"data row4 col6\" >test</td>\n",
              "      <td id=\"T_9aa5c_row4_col7\" class=\"data row4 col7\" >15</td>\n",
              "      <td id=\"T_9aa5c_row4_col8\" class=\"data row4 col8\" >0.000000</td>\n",
              "      <td id=\"T_9aa5c_row4_col9\" class=\"data row4 col9\" >0.000000</td>\n",
              "      <td id=\"T_9aa5c_row4_col10\" class=\"data row4 col10\" >0.000000</td>\n",
              "      <td id=\"T_9aa5c_row4_col11\" class=\"data row4 col11\" >0.000000</td>\n",
              "      <td id=\"T_9aa5c_row4_col12\" class=\"data row4 col12\" >0.000000</td>\n",
              "    </tr>\n",
              "  </tbody>\n",
              "</table>\n"
            ],
            "text/plain": [
              "<pandas.io.formats.style.Styler at 0x220205b73a0>"
            ]
          },
          "execution_count": 5,
          "metadata": {},
          "output_type": "execute_result"
        }
      ],
      "source": [
        "data.sample(5).style.set_properties(\n",
        "    **{\n",
        "        'background-color': 'cyan',\n",
        "        'color': 'black',\n",
        "        'border-color': 'darkblack'\n",
        "    })"
      ]
    },
    {
      "cell_type": "code",
      "execution_count": null,
      "id": "16870489",
      "metadata": {
        "id": "16870489",
        "outputId": "551eb9df-85aa-479c-a735-640b873f1999"
      },
      "outputs": [
        {
          "data": {
            "text/plain": [
              "rev_id                0\n",
              "comment               0\n",
              "year                  0\n",
              "logged_in             0\n",
              "ns                    0\n",
              "sample                0\n",
              "split                 0\n",
              "worker_id             0\n",
              "quoting_attack        0\n",
              "recipient_attack      0\n",
              "third_party_attack    0\n",
              "other_attack          0\n",
              "attack                0\n",
              "dtype: int64"
            ]
          },
          "execution_count": 6,
          "metadata": {},
          "output_type": "execute_result"
        }
      ],
      "source": [
        "data.isnull().sum()"
      ]
    },
    {
      "cell_type": "code",
      "execution_count": null,
      "id": "86c211d2",
      "metadata": {
        "id": "86c211d2",
        "outputId": "30f92040-ea99-4d07-c07d-315a86d022ee"
      },
      "outputs": [
        {
          "name": "stdout",
          "output_type": "stream",
          "text": [
            "No duplicate values found.\n"
          ]
        }
      ],
      "source": [
        "import pandas as pd\n",
        "\n",
        "def remove_duplicates_from_csv(input_file):\n",
        "    before_count = len(data)\n",
        "    data.drop_duplicates(inplace=True)\n",
        "    after_count = len(data)\n",
        "\n",
        "    # Save the changes to the same CSV file\n",
        "    data.to_csv(input_file, index=False)\n",
        "\n",
        "    if after_count < before_count:\n",
        "        print(\"Duplicate values were removed.\")\n",
        "    else:\n",
        "        print(\"No duplicate values found.\")\n",
        "\n",
        "# Example usage\n",
        "input_file = 'data.csv'\n",
        "remove_duplicates_from_csv(input_file)\n"
      ]
    },
    {
      "cell_type": "code",
      "execution_count": null,
      "id": "f1c0aed2",
      "metadata": {
        "id": "f1c0aed2",
        "outputId": "c6093d61-d39f-4bee-bedd-b68024096847"
      },
      "outputs": [
        {
          "data": {
            "text/html": [
              "<style type=\"text/css\">\n",
              "#T_a67a7_row0_col0, #T_a67a7_row1_col1, #T_a67a7_row1_col2, #T_a67a7_row1_col3, #T_a67a7_row1_col4, #T_a67a7_row1_col5, #T_a67a7_row1_col6, #T_a67a7_row1_col7, #T_a67a7_row2_col1, #T_a67a7_row2_col2, #T_a67a7_row2_col3, #T_a67a7_row2_col4, #T_a67a7_row2_col5, #T_a67a7_row2_col6, #T_a67a7_row2_col7, #T_a67a7_row3_col0, #T_a67a7_row3_col1, #T_a67a7_row3_col2, #T_a67a7_row3_col3, #T_a67a7_row3_col4, #T_a67a7_row3_col5, #T_a67a7_row3_col6, #T_a67a7_row3_col7, #T_a67a7_row4_col1, #T_a67a7_row4_col2, #T_a67a7_row4_col3, #T_a67a7_row4_col4, #T_a67a7_row4_col5, #T_a67a7_row4_col6, #T_a67a7_row4_col7, #T_a67a7_row5_col1, #T_a67a7_row5_col2, #T_a67a7_row5_col3, #T_a67a7_row5_col4, #T_a67a7_row5_col5, #T_a67a7_row5_col6, #T_a67a7_row5_col7, #T_a67a7_row6_col1, #T_a67a7_row6_col2, #T_a67a7_row6_col3, #T_a67a7_row6_col4, #T_a67a7_row6_col5, #T_a67a7_row6_col6, #T_a67a7_row6_col7, #T_a67a7_row7_col1, #T_a67a7_row7_col2, #T_a67a7_row7_col3, #T_a67a7_row7_col4, #T_a67a7_row7_col5, #T_a67a7_row7_col6, #T_a67a7_row7_col7 {\n",
              "  background-color: #8000ff;\n",
              "  color: #f1f1f1;\n",
              "}\n",
              "#T_a67a7_row0_col1, #T_a67a7_row0_col2, #T_a67a7_row0_col3, #T_a67a7_row0_col4, #T_a67a7_row0_col5, #T_a67a7_row0_col6, #T_a67a7_row0_col7, #T_a67a7_row7_col0 {\n",
              "  background-color: #ff0000;\n",
              "  color: #f1f1f1;\n",
              "}\n",
              "#T_a67a7_row1_col0 {\n",
              "  background-color: #5af8c8;\n",
              "  color: #000000;\n",
              "}\n",
              "#T_a67a7_row2_col0 {\n",
              "  background-color: #10c6e6;\n",
              "  color: #000000;\n",
              "}\n",
              "#T_a67a7_row4_col0 {\n",
              "  background-color: #2489f5;\n",
              "  color: #f1f1f1;\n",
              "}\n",
              "#T_a67a7_row5_col0 {\n",
              "  background-color: #44eed2;\n",
              "  color: #000000;\n",
              "}\n",
              "#T_a67a7_row6_col0 {\n",
              "  background-color: #cee184;\n",
              "  color: #000000;\n",
              "}\n",
              "</style>\n",
              "<table id=\"T_a67a7\">\n",
              "  <thead>\n",
              "    <tr>\n",
              "      <th class=\"blank level0\" >&nbsp;</th>\n",
              "      <th id=\"T_a67a7_level0_col0\" class=\"col_heading level0 col0\" >rev_id</th>\n",
              "      <th id=\"T_a67a7_level0_col1\" class=\"col_heading level0 col1\" >year</th>\n",
              "      <th id=\"T_a67a7_level0_col2\" class=\"col_heading level0 col2\" >worker_id</th>\n",
              "      <th id=\"T_a67a7_level0_col3\" class=\"col_heading level0 col3\" >quoting_attack</th>\n",
              "      <th id=\"T_a67a7_level0_col4\" class=\"col_heading level0 col4\" >recipient_attack</th>\n",
              "      <th id=\"T_a67a7_level0_col5\" class=\"col_heading level0 col5\" >third_party_attack</th>\n",
              "      <th id=\"T_a67a7_level0_col6\" class=\"col_heading level0 col6\" >other_attack</th>\n",
              "      <th id=\"T_a67a7_level0_col7\" class=\"col_heading level0 col7\" >attack</th>\n",
              "    </tr>\n",
              "  </thead>\n",
              "  <tbody>\n",
              "    <tr>\n",
              "      <th id=\"T_a67a7_level0_row0\" class=\"row_heading level0 row0\" >count</th>\n",
              "      <td id=\"T_a67a7_row0_col0\" class=\"data row0 col0\" >1365217.000000</td>\n",
              "      <td id=\"T_a67a7_row0_col1\" class=\"data row0 col1\" >1365217.000000</td>\n",
              "      <td id=\"T_a67a7_row0_col2\" class=\"data row0 col2\" >1365217.000000</td>\n",
              "      <td id=\"T_a67a7_row0_col3\" class=\"data row0 col3\" >1365217.000000</td>\n",
              "      <td id=\"T_a67a7_row0_col4\" class=\"data row0 col4\" >1365217.000000</td>\n",
              "      <td id=\"T_a67a7_row0_col5\" class=\"data row0 col5\" >1365217.000000</td>\n",
              "      <td id=\"T_a67a7_row0_col6\" class=\"data row0 col6\" >1365217.000000</td>\n",
              "      <td id=\"T_a67a7_row0_col7\" class=\"data row0 col7\" >1365217.000000</td>\n",
              "    </tr>\n",
              "    <tr>\n",
              "      <th id=\"T_a67a7_level0_row1\" class=\"row_heading level0 row1\" >mean</th>\n",
              "      <td id=\"T_a67a7_row1_col0\" class=\"data row1 col0\" >299974474.465235</td>\n",
              "      <td id=\"T_a67a7_row1_col1\" class=\"data row1 col1\" >2009.219187</td>\n",
              "      <td id=\"T_a67a7_row1_col2\" class=\"data row1 col2\" >1339.285722</td>\n",
              "      <td id=\"T_a67a7_row1_col3\" class=\"data row1 col3\" >0.007525</td>\n",
              "      <td id=\"T_a67a7_row1_col4\" class=\"data row1 col4\" >0.111782</td>\n",
              "      <td id=\"T_a67a7_row1_col5\" class=\"data row1 col5\" >0.032648</td>\n",
              "      <td id=\"T_a67a7_row1_col6\" class=\"data row1 col6\" >0.032318</td>\n",
              "      <td id=\"T_a67a7_row1_col7\" class=\"data row1 col7\" >0.166960</td>\n",
              "    </tr>\n",
              "    <tr>\n",
              "      <th id=\"T_a67a7_level0_row2\" class=\"row_heading level0 row2\" >std</th>\n",
              "      <td id=\"T_a67a7_row2_col0\" class=\"data row2 col0\" >198421440.652275</td>\n",
              "      <td id=\"T_a67a7_row2_col1\" class=\"data row2 col1\" >2.900762</td>\n",
              "      <td id=\"T_a67a7_row2_col2\" class=\"data row2 col2\" >1053.386638</td>\n",
              "      <td id=\"T_a67a7_row2_col3\" class=\"data row2 col3\" >0.086419</td>\n",
              "      <td id=\"T_a67a7_row2_col4\" class=\"data row2 col4\" >0.315098</td>\n",
              "      <td id=\"T_a67a7_row2_col5\" class=\"data row2 col5\" >0.177712</td>\n",
              "      <td id=\"T_a67a7_row2_col6\" class=\"data row2 col6\" >0.176843</td>\n",
              "      <td id=\"T_a67a7_row2_col7\" class=\"data row2 col7\" >0.372940</td>\n",
              "    </tr>\n",
              "    <tr>\n",
              "      <th id=\"T_a67a7_level0_row3\" class=\"row_heading level0 row3\" >min</th>\n",
              "      <td id=\"T_a67a7_row3_col0\" class=\"data row3 col0\" >37675.000000</td>\n",
              "      <td id=\"T_a67a7_row3_col1\" class=\"data row3 col1\" >2001.000000</td>\n",
              "      <td id=\"T_a67a7_row3_col2\" class=\"data row3 col2\" >0.000000</td>\n",
              "      <td id=\"T_a67a7_row3_col3\" class=\"data row3 col3\" >0.000000</td>\n",
              "      <td id=\"T_a67a7_row3_col4\" class=\"data row3 col4\" >0.000000</td>\n",
              "      <td id=\"T_a67a7_row3_col5\" class=\"data row3 col5\" >0.000000</td>\n",
              "      <td id=\"T_a67a7_row3_col6\" class=\"data row3 col6\" >0.000000</td>\n",
              "      <td id=\"T_a67a7_row3_col7\" class=\"data row3 col7\" >0.000000</td>\n",
              "    </tr>\n",
              "    <tr>\n",
              "      <th id=\"T_a67a7_level0_row4\" class=\"row_heading level0 row4\" >25%</th>\n",
              "      <td id=\"T_a67a7_row4_col0\" class=\"data row4 col0\" >126867740.000000</td>\n",
              "      <td id=\"T_a67a7_row4_col1\" class=\"data row4 col1\" >2007.000000</td>\n",
              "      <td id=\"T_a67a7_row4_col2\" class=\"data row4 col2\" >445.000000</td>\n",
              "      <td id=\"T_a67a7_row4_col3\" class=\"data row4 col3\" >0.000000</td>\n",
              "      <td id=\"T_a67a7_row4_col4\" class=\"data row4 col4\" >0.000000</td>\n",
              "      <td id=\"T_a67a7_row4_col5\" class=\"data row4 col5\" >0.000000</td>\n",
              "      <td id=\"T_a67a7_row4_col6\" class=\"data row4 col6\" >0.000000</td>\n",
              "      <td id=\"T_a67a7_row4_col7\" class=\"data row4 col7\" >0.000000</td>\n",
              "    </tr>\n",
              "    <tr>\n",
              "      <th id=\"T_a67a7_level0_row5\" class=\"row_heading level0 row5\" >50%</th>\n",
              "      <td id=\"T_a67a7_row5_col0\" class=\"data row5 col0\" >269997593.000000</td>\n",
              "      <td id=\"T_a67a7_row5_col1\" class=\"data row5 col1\" >2009.000000</td>\n",
              "      <td id=\"T_a67a7_row5_col2\" class=\"data row5 col2\" >1079.000000</td>\n",
              "      <td id=\"T_a67a7_row5_col3\" class=\"data row5 col3\" >0.000000</td>\n",
              "      <td id=\"T_a67a7_row5_col4\" class=\"data row5 col4\" >0.000000</td>\n",
              "      <td id=\"T_a67a7_row5_col5\" class=\"data row5 col5\" >0.000000</td>\n",
              "      <td id=\"T_a67a7_row5_col6\" class=\"data row5 col6\" >0.000000</td>\n",
              "      <td id=\"T_a67a7_row5_col7\" class=\"data row5 col7\" >0.000000</td>\n",
              "    </tr>\n",
              "    <tr>\n",
              "      <th id=\"T_a67a7_level0_row6\" class=\"row_heading level0 row6\" >75%</th>\n",
              "      <td id=\"T_a67a7_row6_col0\" class=\"data row6 col0\" >459291144.000000</td>\n",
              "      <td id=\"T_a67a7_row6_col1\" class=\"data row6 col1\" >2011.000000</td>\n",
              "      <td id=\"T_a67a7_row6_col2\" class=\"data row6 col2\" >2062.000000</td>\n",
              "      <td id=\"T_a67a7_row6_col3\" class=\"data row6 col3\" >0.000000</td>\n",
              "      <td id=\"T_a67a7_row6_col4\" class=\"data row6 col4\" >0.000000</td>\n",
              "      <td id=\"T_a67a7_row6_col5\" class=\"data row6 col5\" >0.000000</td>\n",
              "      <td id=\"T_a67a7_row6_col6\" class=\"data row6 col6\" >0.000000</td>\n",
              "      <td id=\"T_a67a7_row6_col7\" class=\"data row6 col7\" >0.000000</td>\n",
              "    </tr>\n",
              "    <tr>\n",
              "      <th id=\"T_a67a7_level0_row7\" class=\"row_heading level0 row7\" >max</th>\n",
              "      <td id=\"T_a67a7_row7_col0\" class=\"data row7 col0\" >699897151.000000</td>\n",
              "      <td id=\"T_a67a7_row7_col1\" class=\"data row7 col1\" >2016.000000</td>\n",
              "      <td id=\"T_a67a7_row7_col2\" class=\"data row7 col2\" >4052.000000</td>\n",
              "      <td id=\"T_a67a7_row7_col3\" class=\"data row7 col3\" >1.000000</td>\n",
              "      <td id=\"T_a67a7_row7_col4\" class=\"data row7 col4\" >1.000000</td>\n",
              "      <td id=\"T_a67a7_row7_col5\" class=\"data row7 col5\" >1.000000</td>\n",
              "      <td id=\"T_a67a7_row7_col6\" class=\"data row7 col6\" >1.000000</td>\n",
              "      <td id=\"T_a67a7_row7_col7\" class=\"data row7 col7\" >1.000000</td>\n",
              "    </tr>\n",
              "  </tbody>\n",
              "</table>\n"
            ],
            "text/plain": [
              "<pandas.io.formats.style.Styler at 0x22025a7b280>"
            ]
          },
          "execution_count": 8,
          "metadata": {},
          "output_type": "execute_result"
        }
      ],
      "source": [
        "data.describe().style.background_gradient(cmap='rainbow')"
      ]
    },
    {
      "cell_type": "code",
      "execution_count": null,
      "id": "1b5d550b",
      "metadata": {
        "id": "1b5d550b",
        "outputId": "aea46822-5008-4aeb-f9b1-f5d88c2544bc"
      },
      "outputs": [
        {
          "data": {
            "text/plain": [
              "<Axes: >"
            ]
          },
          "execution_count": 9,
          "metadata": {},
          "output_type": "execute_result"
        },
        {
          "data": {
            "image/png": "[encoded data removed]",
            "text/plain": [
              "<Figure size 2000x500 with 1 Axes>"
            ]
          },
          "metadata": {},
          "output_type": "display_data"
        }
      ],
      "source": [
        "data['attack'].plot(figsize=(20,5))"
      ]
    },
    {
      "cell_type": "code",
      "execution_count": null,
      "id": "a798b2b0",
      "metadata": {
        "id": "a798b2b0"
      },
      "outputs": [],
      "source": [
        "texts = data['comment'].values\n",
        "labels = data['attack'].values"
      ]
    },
    {
      "cell_type": "code",
      "execution_count": null,
      "id": "cc6afb98",
      "metadata": {
        "id": "cc6afb98"
      },
      "outputs": [],
      "source": [
        "max_samples = 50000  # Choose a smaller number of samples to use\n",
        "texts = texts[:max_samples]\n",
        "labels = labels[:max_samples]"
      ]
    },
    {
      "cell_type": "code",
      "execution_count": null,
      "id": "b6686e88",
      "metadata": {
        "id": "b6686e88"
      },
      "outputs": [],
      "source": [
        "# Tokenize the text\n",
        "tokenizer = Tokenizer()\n",
        "tokenizer.fit_on_texts(texts)\n",
        "sequences = tokenizer.texts_to_sequences(texts)"
      ]
    },
    {
      "cell_type": "code",
      "execution_count": null,
      "id": "729d7e1b",
      "metadata": {
        "id": "729d7e1b"
      },
      "outputs": [],
      "source": [
        "max_len = 200  # Set a maximum sequence length\n",
        "padded_sequences = pad_sequences(sequences, maxlen=max_len, padding='post')\n"
      ]
    },
    {
      "cell_type": "code",
      "execution_count": null,
      "id": "a1d52c2e",
      "metadata": {
        "id": "a1d52c2e"
      },
      "outputs": [],
      "source": [
        "# Split the data into training and testing sets\n",
        "X_train, X_test, y_train, y_test = train_test_split(padded_sequences, labels, test_size=0.2, random_state=42)"
      ]
    },
    {
      "cell_type": "code",
      "execution_count": null,
      "id": "758b6ee0",
      "metadata": {
        "id": "758b6ee0"
      },
      "outputs": [],
      "source": [
        "# Define the model architecture\n",
        "model = tf.keras.Sequential()\n",
        "model.add(tf.keras.layers.Embedding(input_dim=len(tokenizer.word_index)+1, output_dim=100, input_length=max_len))\n",
        "model.add(tf.keras.layers.Conv1D(128, 5, activation='relu'))\n",
        "model.add(tf.keras.layers.GlobalMaxPooling1D())\n",
        "model.add(tf.keras.layers.Dense(1, activation='sigmoid'))"
      ]
    },
    {
      "cell_type": "code",
      "execution_count": null,
      "id": "57af9364",
      "metadata": {
        "id": "57af9364"
      },
      "outputs": [],
      "source": [
        "# Compile the model\n",
        "model.compile(loss='binary_crossentropy', optimizer='adam', metrics=['accuracy'])"
      ]
    },
    {
      "cell_type": "code",
      "execution_count": null,
      "id": "449fe59b",
      "metadata": {
        "id": "449fe59b",
        "outputId": "129584a2-9fc0-42b8-8ab3-d884295c30e2"
      },
      "outputs": [
        {
          "name": "stdout",
          "output_type": "stream",
          "text": [
            "Epoch 1/5\n",
            "625/625 [==============================] - 109s 171ms/step - loss: 0.2934 - accuracy: 0.8955 - val_loss: 0.2551 - val_accuracy: 0.9060\n",
            "Epoch 2/5\n",
            "625/625 [==============================] - 109s 174ms/step - loss: 0.2365 - accuracy: 0.9073 - val_loss: 0.2584 - val_accuracy: 0.9070\n",
            "Epoch 3/5\n",
            "625/625 [==============================] - 106s 170ms/step - loss: 0.2245 - accuracy: 0.9082 - val_loss: 0.2624 - val_accuracy: 0.9085\n",
            "Epoch 4/5\n",
            "625/625 [==============================] - 118s 189ms/step - loss: 0.2181 - accuracy: 0.9102 - val_loss: 0.2737 - val_accuracy: 0.9098\n",
            "Epoch 5/5\n",
            "625/625 [==============================] - 118s 189ms/step - loss: 0.2142 - accuracy: 0.9091 - val_loss: 0.2881 - val_accuracy: 0.9004\n"
          ]
        },
        {
          "data": {
            "text/plain": [
              "<keras.callbacks.History at 0x22043a805e0>"
            ]
          },
          "execution_count": 18,
          "metadata": {},
          "output_type": "execute_result"
        }
      ],
      "source": [
        "# Train the model\n",
        "model.fit(X_train, y_train, batch_size=64, epochs=5, validation_data=(X_test, y_test))"
      ]
    },
    {
      "cell_type": "code",
      "execution_count": null,
      "id": "90eee7e3",
      "metadata": {
        "id": "90eee7e3",
        "outputId": "918c3b61-e827-406a-c0b8-3739ee0ea5aa"
      },
      "outputs": [
        {
          "name": "stdout",
          "output_type": "stream",
          "text": [
            "313/313 [==============================] - 5s 15ms/step - loss: 0.2881 - accuracy: 0.9004\n",
            "Test Loss: 0.2881\n",
            "Test Accuracy: 0.9004\n"
          ]
        }
      ],
      "source": [
        "# Evaluate the model\n",
        "loss, accuracy = model.evaluate(X_test, y_test)\n",
        "print(f\"Test Loss: {loss:.4f}\")\n",
        "print(f\"Test Accuracy: {accuracy:.4f}\")"
      ]
    },
    {
      "cell_type": "code",
      "execution_count": null,
      "id": "bda30114",
      "metadata": {
        "id": "bda30114"
      },
      "outputs": [],
      "source": [
        "# Save the model\n",
        "model.save(\"aggression_detection_model.h5\")"
      ]
    },
    {
      "cell_type": "code",
      "execution_count": null,
      "id": "993472f9",
      "metadata": {
        "id": "993472f9"
      },
      "outputs": [],
      "source": []
    },
    {
      "cell_type": "code",
      "execution_count": null,
      "id": "47d44238",
      "metadata": {
        "id": "47d44238"
      },
      "outputs": [],
      "source": []
    }
  ],
  "metadata": {
    "kernelspec": {
      "display_name": "Python 3 (ipykernel)",
      "language": "python",
      "name": "python3"
    },
    "language_info": {
      "codemirror_mode": {
        "name": "ipython",
        "version": 3
      },
      "file_extension": ".py",
      "mimetype": "text/x-python",
      "name": "python",
      "nbconvert_exporter": "python",
      "pygments_lexer": "ipython3",
      "version": "3.10.9"
    },
    "colab": {
      "provenance": []
    }
  },
  "nbformat": 4,
  "nbformat_minor": 5
}