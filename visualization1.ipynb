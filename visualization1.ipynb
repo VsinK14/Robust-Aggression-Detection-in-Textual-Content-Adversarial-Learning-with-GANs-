{
  "cells": [
    {
      "cell_type": "code",
      "execution_count": null,
      "id": "8e9bcb3a",
      "metadata": {
        "id": "8e9bcb3a"
      },
      "outputs": [],
      "source": [
        "import pandas as pd\n",
        "import numpy as np\n",
        "import tensorflow as tf\n",
        "from tensorflow.keras.models import Sequential\n",
        "from tensorflow.keras.layers import Dense, Embedding, LSTM\n",
        "from tensorflow.keras.optimizers import Adam\n",
        "from sklearn.model_selection import train_test_split\n",
        "from tensorflow.keras.preprocessing.text import Tokenizer\n",
        "from tensorflow.keras.preprocessing.sequence import pad_sequences"
      ]
    },
    {
      "cell_type": "code",
      "execution_count": null,
      "id": "752af720",
      "metadata": {
        "id": "752af720"
      },
      "outputs": [],
      "source": [
        "data = pd.read_csv(r'C:\\Users\\USER\\Downloads\\data.csv')"
      ]
    },
    {
      "cell_type": "code",
      "execution_count": null,
      "id": "c1bc400c",
      "metadata": {
        "id": "c1bc400c"
      },
      "outputs": [],
      "source": [
        "comments = data['comment'].values\n",
        "labels = data['attack'].values"
      ]
    },
    {
      "cell_type": "code",
      "execution_count": null,
      "id": "641b30a3",
      "metadata": {
        "id": "641b30a3"
      },
      "outputs": [],
      "source": [
        "max_samples = 50000  # Choose a smaller number of samples to use\n",
        "comments = comments[:max_samples]\n",
        "labels = labels[:max_samples]\n"
      ]
    },
    {
      "cell_type": "code",
      "execution_count": null,
      "id": "9c42d2ea",
      "metadata": {
        "id": "9c42d2ea"
      },
      "outputs": [],
      "source": [
        "# Convert the comments to strings\n",
        "comments = [str(comment) for comment in comments]"
      ]
    },
    {
      "cell_type": "code",
      "execution_count": null,
      "id": "e4dcb082",
      "metadata": {
        "id": "e4dcb082"
      },
      "outputs": [],
      "source": [
        "# Tokenize the comments\n",
        "tokenizer = Tokenizer()\n",
        "tokenizer.fit_on_texts(comments)\n",
        "sequences = tokenizer.texts_to_sequences(comments)"
      ]
    },
    {
      "cell_type": "code",
      "execution_count": null,
      "id": "acc60761",
      "metadata": {
        "id": "acc60761"
      },
      "outputs": [],
      "source": [
        "# Pad sequences\n",
        "max_len = 200  # Set a maximum sequence length\n",
        "padded_sequences = pad_sequences(sequences, maxlen=max_len, padding='post')"
      ]
    },
    {
      "cell_type": "code",
      "execution_count": null,
      "id": "ab179fe8",
      "metadata": {
        "id": "ab179fe8"
      },
      "outputs": [],
      "source": [
        "# Split the dataset into training and testing sets\n",
        "X_train, X_test, y_train, y_test = train_test_split(comments, labels, test_size=0.2, random_state=42)\n"
      ]
    },
    {
      "cell_type": "code",
      "execution_count": null,
      "id": "df59eb9f",
      "metadata": {
        "id": "df59eb9f"
      },
      "outputs": [],
      "source": [
        "# Tokenize the comments\n",
        "tokenizer = Tokenizer()\n",
        "tokenizer.fit_on_texts(X_train)\n",
        "X_train = tokenizer.texts_to_sequences(X_train)\n",
        "X_test = tokenizer.texts_to_sequences(X_test)\n"
      ]
    },
    {
      "cell_type": "code",
      "execution_count": null,
      "id": "8108c121",
      "metadata": {
        "id": "8108c121"
      },
      "outputs": [],
      "source": [
        "\n",
        "# Pad sequences to a fixed length\n",
        "max_sequence_length = 200\n",
        "X_train = pad_sequences(X_train, maxlen=max_sequence_length)\n",
        "X_test = pad_sequences(X_test, maxlen=max_sequence_length)"
      ]
    },
    {
      "cell_type": "code",
      "execution_count": null,
      "id": "8ab10190",
      "metadata": {
        "id": "8ab10190"
      },
      "outputs": [],
      "source": [
        "\n",
        "# Define the dimensions\n",
        "vocab_size = len(tokenizer.word_index) + 1\n",
        "latent_dim = 100\n"
      ]
    },
    {
      "cell_type": "code",
      "execution_count": null,
      "id": "f204e5a2",
      "metadata": {
        "id": "f204e5a2"
      },
      "outputs": [],
      "source": [
        "# Define the generator model\n",
        "generator = Sequential()\n",
        "generator.add(Embedding(vocab_size, latent_dim, input_length=max_sequence_length))\n",
        "generator.add(LSTM(256))\n",
        "generator.add(Dense(1, activation='sigmoid'))"
      ]
    },
    {
      "cell_type": "code",
      "execution_count": null,
      "id": "d06b5947",
      "metadata": {
        "id": "d06b5947"
      },
      "outputs": [],
      "source": [
        "# Define the discriminator model\n",
        "discriminator = Sequential()\n",
        "discriminator.add(Embedding(vocab_size, latent_dim, input_length=max_sequence_length))\n",
        "discriminator.add(LSTM(256))\n",
        "discriminator.add(Dense(1, activation='sigmoid'))"
      ]
    },
    {
      "cell_type": "code",
      "execution_count": null,
      "id": "48939040",
      "metadata": {
        "id": "48939040"
      },
      "outputs": [],
      "source": [
        "# Compile the discriminator\n",
        "discriminator.compile(loss='binary_crossentropy', optimizer=Adam(learning_rate=0.0002), metrics=['accuracy'])\n",
        "\n",
        "# D"
      ]
    },
    {
      "cell_type": "code",
      "execution_count": null,
      "id": "f9839210",
      "metadata": {
        "id": "f9839210"
      },
      "outputs": [],
      "source": [
        "# Define the GAN model\n",
        "gan = Sequential()\n",
        "gan.add(generator)\n",
        "gan.add(discriminator)"
      ]
    },
    {
      "cell_type": "code",
      "execution_count": null,
      "id": "b8e887b8",
      "metadata": {
        "id": "b8e887b8"
      },
      "outputs": [],
      "source": [
        "# Compile the GAN\n",
        "gan.compile(loss='binary_crossentropy', optimizer=Adam(learning_rate=0.0002))\n"
      ]
    },
    {
      "cell_type": "code",
      "execution_count": null,
      "id": "b2a54d19",
      "metadata": {
        "id": "b2a54d19"
      },
      "outputs": [],
      "source": [
        "# Set training parameters\n",
        "epochs = 10\n",
        "batch_size = 32\n"
      ]
    },
    {
      "cell_type": "code",
      "execution_count": null,
      "id": "5029d704",
      "metadata": {
        "id": "5029d704"
      },
      "outputs": [],
      "source": [
        "# Training loop\n",
        "for epoch in range(epochs):\n",
        "    for _ in range(len(X_train) // batch_size):\n",
        "        # Generate fake comments using the generator\n",
        "        noise = np.random.normal(0, 1, (batch_size, latent_dim))\n",
        "        fake_comments = generator.predict(noise)\n",
        "\n",
        "        # Select a random batch of real comments\n",
        "        real_comments = X_train[np.random.randint(0, X_train.shape[0], batch_size)]\n",
        "\n",
        "        # Combine real and fake comments as training data\n",
        "        X = np.concatenate([real_comments, fake_comments])\n",
        "        y = np.concatenate([np.ones((batch_size, 1)), np.zeros((batch_size, 1))])\n",
        "\n",
        "        # Train the discriminator\n",
        "        discriminator_loss = discriminator.train_on_batch(X, y)\n",
        "\n",
        "        # Generate noise for training the generator\n",
        "        noise = np.random.normal(0, 1, (batch_size, latent_dim))\n",
        "\n",
        "        # Set the target labels for the generator\n",
        "        y = np.ones((batch_size, 1))\n",
        "\n",
        "        # Train the generator\n",
        "        generator_loss = gan.train_on_batch(noise, y)\n",
        "\n",
        "    # Print the losses for each epoch\n",
        "    print(f'Epoch {epoch+1}/{epochs} - Discriminator Loss: {discriminator_loss[0]}, Generator Loss: {generator_loss}')"
      ]
    },
    {
      "cell_type": "code",
      "execution_count": null,
      "id": "d4ebcf71",
      "metadata": {
        "id": "d4ebcf71"
      },
      "outputs": [],
      "source": []
    },
    {
      "cell_type": "code",
      "execution_count": null,
      "id": "1a732a4d",
      "metadata": {
        "id": "1a732a4d"
      },
      "outputs": [],
      "source": []
    },
    {
      "cell_type": "code",
      "execution_count": null,
      "id": "1c9118da",
      "metadata": {
        "id": "1c9118da",
        "outputId": "fd09ef79-03d2-4c02-928f-ad333e233e5d"
      },
      "outputs": [
        {
          "name": "stderr",
          "output_type": "stream",
          "text": [
            "C:\\Users\\USER\\AppData\\Local\\Temp\\ipykernel_9416\\3510424060.py:4: FutureWarning: In a future version of pandas all arguments of DataFrame.dropna will be keyword-only.\n",
            "  df = df.dropna('columns') # drop columns with NaN\n",
            "C:\\Users\\USER\\AppData\\Local\\Temp\\ipykernel_9416\\3510424060.py:9: FutureWarning: The default value of numeric_only in DataFrame.corr is deprecated. In a future version, it will default to False. Select only valid columns or specify the value of numeric_only to silence this warning.\n",
            "  corr = df.corr()\n"
          ]
        },
        {
          "data": {
            "image/png": "[encoded data removed]",
            "text/plain": [
              "<Figure size 640x640 with 2 Axes>"
            ]
          },
          "metadata": {},
          "output_type": "display_data"
        }
      ],
      "source": []
    },
    {
      "cell_type": "code",
      "execution_count": null,
      "id": "e1b24912",
      "metadata": {
        "id": "e1b24912"
      },
      "outputs": [],
      "source": []
    },
    {
      "cell_type": "code",
      "execution_count": null,
      "id": "9f87c855",
      "metadata": {
        "id": "9f87c855"
      },
      "outputs": [],
      "source": []
    },
    {
      "cell_type": "code",
      "execution_count": null,
      "id": "5687672c",
      "metadata": {
        "id": "5687672c"
      },
      "outputs": [],
      "source": []
    },
    {
      "cell_type": "code",
      "execution_count": null,
      "id": "1b557f49",
      "metadata": {
        "id": "1b557f49"
      },
      "outputs": [],
      "source": []
    },
    {
      "cell_type": "code",
      "execution_count": null,
      "id": "a1efec55",
      "metadata": {
        "id": "a1efec55"
      },
      "outputs": [],
      "source": []
    },
    {
      "cell_type": "code",
      "execution_count": null,
      "id": "6414f1b2",
      "metadata": {
        "id": "6414f1b2"
      },
      "outputs": [],
      "source": []
    },
    {
      "cell_type": "code",
      "execution_count": null,
      "id": "2c4410e1",
      "metadata": {
        "id": "2c4410e1"
      },
      "outputs": [],
      "source": []
    },
    {
      "cell_type": "code",
      "execution_count": null,
      "id": "b52f86c3",
      "metadata": {
        "id": "b52f86c3"
      },
      "outputs": [],
      "source": []
    },
    {
      "cell_type": "code",
      "execution_count": null,
      "id": "60f0414e",
      "metadata": {
        "id": "60f0414e"
      },
      "outputs": [],
      "source": []
    },
    {
      "cell_type": "code",
      "execution_count": null,
      "id": "86702f83",
      "metadata": {
        "id": "86702f83"
      },
      "outputs": [],
      "source": []
    },
    {
      "cell_type": "code",
      "execution_count": null,
      "id": "5db0f1f1",
      "metadata": {
        "id": "5db0f1f1"
      },
      "outputs": [],
      "source": []
    },
    {
      "cell_type": "code",
      "execution_count": null,
      "id": "afc6947a",
      "metadata": {
        "id": "afc6947a"
      },
      "outputs": [],
      "source": []
    },
    {
      "cell_type": "code",
      "execution_count": null,
      "id": "0cc24cca",
      "metadata": {
        "id": "0cc24cca"
      },
      "outputs": [],
      "source": []
    },
    {
      "cell_type": "code",
      "execution_count": null,
      "id": "ac016f08",
      "metadata": {
        "id": "ac016f08"
      },
      "outputs": [],
      "source": []
    }
  ],
  "metadata": {
    "kernelspec": {
      "display_name": "Python 3 (ipykernel)",
      "language": "python",
      "name": "python3"
    },
    "language_info": {
      "codemirror_mode": {
        "name": "ipython",
        "version": 3
      },
      "file_extension": ".py",
      "mimetype": "text/x-python",
      "name": "python",
      "nbconvert_exporter": "python",
      "pygments_lexer": "ipython3",
      "version": "3.10.9"
    },
    "colab": {
      "provenance": []
    }
  },
  "nbformat": 4,
  "nbformat_minor": 5
}