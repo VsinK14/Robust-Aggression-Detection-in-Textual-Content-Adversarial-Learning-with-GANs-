{
  "cells": [
    {
      "cell_type": "code",
      "execution_count": null,
      "id": "dbebbaa4",
      "metadata": {
        "id": "dbebbaa4"
      },
      "outputs": [],
      "source": [
        "import pandas as pd\n",
        "import tensorflow as tf\n",
        "from tensorflow.keras.preprocessing.text import Tokenizer\n",
        "from tensorflow.keras.preprocessing.sequence import pad_sequences\n",
        "from sklearn.model_selection import train_test_split"
      ]
    },
    {
      "cell_type": "code",
      "execution_count": null,
      "id": "1cece399",
      "metadata": {
        "id": "1cece399"
      },
      "outputs": [],
      "source": [
        "# Load the dataset\n",
        "data= pd.read_csv(r'C:\\Users\\USER\\Downloads\\data.csv')\n"
      ]
    },
    {
      "cell_type": "code",
      "execution_count": null,
      "id": "4d4e23c8",
      "metadata": {
        "id": "4d4e23c8"
      },
      "outputs": [],
      "source": [
        "import pandas as pd\n",
        "import numpy as np\n",
        "import matplotlib.pyplot as plt\n",
        "import seaborn as sns\n",
        "\n",
        "# System libraries\n",
        "import time\n",
        "from datetime import datetime\n",
        "from random import randint\n",
        "\n",
        "\n",
        "# Tensorflow\n",
        "import tensorflow as tf\n",
        "from tensorflow.keras.models import Sequential\n",
        "from tensorflow import keras\n",
        "\n",
        "from statsmodels.tsa.seasonal import seasonal_decompose\n",
        "\n",
        "\n",
        "\n",
        "# import for improving a colorbar\n",
        "from matplotlib.colors import rgb2hex, Normalize;\n",
        "from matplotlib import rcParams\n",
        "\n",
        "# Machine learning imports\n",
        "from sklearn.preprocessing import LabelEncoder, StandardScaler;\n",
        "from sklearn.model_selection import train_test_split\n",
        "from sklearn.model_selection import TimeSeriesSplit, cross_validate;\n",
        "from sklearn.linear_model import LinearRegression, SGDRegressor, Ridge;\n",
        "from sklearn.tree import DecisionTreeRegressor\n",
        "from sklearn.ensemble import RandomForestRegressor\n",
        "from sklearn.neighbors import KNeighborsRegressor\n",
        "from sklearn.svm import SVR, LinearSVR;\n",
        "from sklearn.pipeline import Pipeline\n",
        "from sklearn.base import clone\n",
        "from sklearn.metrics import mean_squared_error, r2_score;\n",
        "\n",
        "# Statistical aids\n",
        "from scipy.stats import kurtosis, skew;\n",
        "\n",
        "import warnings\n",
        "warnings.filterwarnings(\"ignore\")"
      ]
    },
    {
      "cell_type": "code",
      "execution_count": null,
      "id": "a0f0193a",
      "metadata": {
        "id": "a0f0193a",
        "outputId": "087329c8-048c-422f-df77-84403bef13b3"
      },
      "outputs": [
        {
          "name": "stdout",
          "output_type": "stream",
          "text": [
            "<class 'pandas.core.frame.DataFrame'>\n",
            "RangeIndex: 1365217 entries, 0 to 1365216\n",
            "Data columns (total 13 columns):\n",
            " #   Column              Non-Null Count    Dtype  \n",
            "---  ------              --------------    -----  \n",
            " 0   rev_id              1365217 non-null  int64  \n",
            " 1   comment             1365217 non-null  object \n",
            " 2   year                1365217 non-null  int64  \n",
            " 3   logged_in           1365217 non-null  bool   \n",
            " 4   ns                  1365217 non-null  object \n",
            " 5   sample              1365217 non-null  object \n",
            " 6   split               1365217 non-null  object \n",
            " 7   worker_id           1365217 non-null  int64  \n",
            " 8   quoting_attack      1365217 non-null  float64\n",
            " 9   recipient_attack    1365217 non-null  float64\n",
            " 10  third_party_attack  1365217 non-null  float64\n",
            " 11  other_attack        1365217 non-null  float64\n",
            " 12  attack              1365217 non-null  float64\n",
            "dtypes: bool(1), float64(5), int64(3), object(4)\n",
            "memory usage: 126.3+ MB\n"
          ]
        }
      ],
      "source": [
        "data.info()"
      ]
    },
    {
      "cell_type": "code",
      "execution_count": null,
      "id": "723b09a4",
      "metadata": {
        "id": "723b09a4",
        "outputId": "9f866312-a413-4d46-9547-203a1209b9ee"
      },
      "outputs": [
        {
          "data": {
            "text/html": [
              "<style type=\"text/css\">\n",
              "#T_fa7c8_row0_col0, #T_fa7c8_row0_col1, #T_fa7c8_row0_col2, #T_fa7c8_row0_col3, #T_fa7c8_row0_col4, #T_fa7c8_row0_col5, #T_fa7c8_row0_col6, #T_fa7c8_row0_col7, #T_fa7c8_row0_col8, #T_fa7c8_row0_col9, #T_fa7c8_row0_col10, #T_fa7c8_row0_col11, #T_fa7c8_row0_col12, #T_fa7c8_row1_col0, #T_fa7c8_row1_col1, #T_fa7c8_row1_col2, #T_fa7c8_row1_col3, #T_fa7c8_row1_col4, #T_fa7c8_row1_col5, #T_fa7c8_row1_col6, #T_fa7c8_row1_col7, #T_fa7c8_row1_col8, #T_fa7c8_row1_col9, #T_fa7c8_row1_col10, #T_fa7c8_row1_col11, #T_fa7c8_row1_col12, #T_fa7c8_row2_col0, #T_fa7c8_row2_col1, #T_fa7c8_row2_col2, #T_fa7c8_row2_col3, #T_fa7c8_row2_col4, #T_fa7c8_row2_col5, #T_fa7c8_row2_col6, #T_fa7c8_row2_col7, #T_fa7c8_row2_col8, #T_fa7c8_row2_col9, #T_fa7c8_row2_col10, #T_fa7c8_row2_col11, #T_fa7c8_row2_col12, #T_fa7c8_row3_col0, #T_fa7c8_row3_col1, #T_fa7c8_row3_col2, #T_fa7c8_row3_col3, #T_fa7c8_row3_col4, #T_fa7c8_row3_col5, #T_fa7c8_row3_col6, #T_fa7c8_row3_col7, #T_fa7c8_row3_col8, #T_fa7c8_row3_col9, #T_fa7c8_row3_col10, #T_fa7c8_row3_col11, #T_fa7c8_row3_col12, #T_fa7c8_row4_col0, #T_fa7c8_row4_col1, #T_fa7c8_row4_col2, #T_fa7c8_row4_col3, #T_fa7c8_row4_col4, #T_fa7c8_row4_col5, #T_fa7c8_row4_col6, #T_fa7c8_row4_col7, #T_fa7c8_row4_col8, #T_fa7c8_row4_col9, #T_fa7c8_row4_col10, #T_fa7c8_row4_col11, #T_fa7c8_row4_col12 {\n",
              "  background-color: cyan;\n",
              "  color: black;\n",
              "  border-color: darkblack;\n",
              "}\n",
              "</style>\n",
              "<table id=\"T_fa7c8\">\n",
              "  <thead>\n",
              "    <tr>\n",
              "      <th class=\"blank level0\" >&nbsp;</th>\n",
              "      <th id=\"T_fa7c8_level0_col0\" class=\"col_heading level0 col0\" >rev_id</th>\n",
              "      <th id=\"T_fa7c8_level0_col1\" class=\"col_heading level0 col1\" >comment</th>\n",
              "      <th id=\"T_fa7c8_level0_col2\" class=\"col_heading level0 col2\" >year</th>\n",
              "      <th id=\"T_fa7c8_level0_col3\" class=\"col_heading level0 col3\" >logged_in</th>\n",
              "      <th id=\"T_fa7c8_level0_col4\" class=\"col_heading level0 col4\" >ns</th>\n",
              "      <th id=\"T_fa7c8_level0_col5\" class=\"col_heading level0 col5\" >sample</th>\n",
              "      <th id=\"T_fa7c8_level0_col6\" class=\"col_heading level0 col6\" >split</th>\n",
              "      <th id=\"T_fa7c8_level0_col7\" class=\"col_heading level0 col7\" >worker_id</th>\n",
              "      <th id=\"T_fa7c8_level0_col8\" class=\"col_heading level0 col8\" >quoting_attack</th>\n",
              "      <th id=\"T_fa7c8_level0_col9\" class=\"col_heading level0 col9\" >recipient_attack</th>\n",
              "      <th id=\"T_fa7c8_level0_col10\" class=\"col_heading level0 col10\" >third_party_attack</th>\n",
              "      <th id=\"T_fa7c8_level0_col11\" class=\"col_heading level0 col11\" >other_attack</th>\n",
              "      <th id=\"T_fa7c8_level0_col12\" class=\"col_heading level0 col12\" >attack</th>\n",
              "    </tr>\n",
              "  </thead>\n",
              "  <tbody>\n",
              "    <tr>\n",
              "      <th id=\"T_fa7c8_level0_row0\" class=\"row_heading level0 row0\" >1225156</th>\n",
              "      <td id=\"T_fa7c8_row0_col0\" class=\"data row0 col0\" >601889201</td>\n",
              "      <td id=\"T_fa7c8_row0_col1\" class=\"data row0 col1\" >It is very frustrating to see Wikipedia persist in the former spelling of the name, considering Ukraine's largest newspaper and the government of the largest English-speaking country in the world use the proper spelling of Kyiv. -  NEWLINE_TOKENNEWLINE_TOKEN</td>\n",
              "      <td id=\"T_fa7c8_row0_col2\" class=\"data row0 col2\" >2014</td>\n",
              "      <td id=\"T_fa7c8_row0_col3\" class=\"data row0 col3\" >True</td>\n",
              "      <td id=\"T_fa7c8_row0_col4\" class=\"data row0 col4\" >article</td>\n",
              "      <td id=\"T_fa7c8_row0_col5\" class=\"data row0 col5\" >random</td>\n",
              "      <td id=\"T_fa7c8_row0_col6\" class=\"data row0 col6\" >test</td>\n",
              "      <td id=\"T_fa7c8_row0_col7\" class=\"data row0 col7\" >821</td>\n",
              "      <td id=\"T_fa7c8_row0_col8\" class=\"data row0 col8\" >0.000000</td>\n",
              "      <td id=\"T_fa7c8_row0_col9\" class=\"data row0 col9\" >0.000000</td>\n",
              "      <td id=\"T_fa7c8_row0_col10\" class=\"data row0 col10\" >0.000000</td>\n",
              "      <td id=\"T_fa7c8_row0_col11\" class=\"data row0 col11\" >0.000000</td>\n",
              "      <td id=\"T_fa7c8_row0_col12\" class=\"data row0 col12\" >0.000000</td>\n",
              "    </tr>\n",
              "    <tr>\n",
              "      <th id=\"T_fa7c8_level0_row1\" class=\"row_heading level0 row1\" >536298</th>\n",
              "      <td id=\"T_fa7c8_row1_col0\" class=\"data row1 col0\" >205371882</td>\n",
              "      <td id=\"T_fa7c8_row1_col1\" class=\"data row1 col1\" >NEWLINE_TOKEN**Sign your fucking comments!   </td>\n",
              "      <td id=\"T_fa7c8_row1_col2\" class=\"data row1 col2\" >2008</td>\n",
              "      <td id=\"T_fa7c8_row1_col3\" class=\"data row1 col3\" >False</td>\n",
              "      <td id=\"T_fa7c8_row1_col4\" class=\"data row1 col4\" >article</td>\n",
              "      <td id=\"T_fa7c8_row1_col5\" class=\"data row1 col5\" >blocked</td>\n",
              "      <td id=\"T_fa7c8_row1_col6\" class=\"data row1 col6\" >test</td>\n",
              "      <td id=\"T_fa7c8_row1_col7\" class=\"data row1 col7\" >867</td>\n",
              "      <td id=\"T_fa7c8_row1_col8\" class=\"data row1 col8\" >0.000000</td>\n",
              "      <td id=\"T_fa7c8_row1_col9\" class=\"data row1 col9\" >1.000000</td>\n",
              "      <td id=\"T_fa7c8_row1_col10\" class=\"data row1 col10\" >0.000000</td>\n",
              "      <td id=\"T_fa7c8_row1_col11\" class=\"data row1 col11\" >0.000000</td>\n",
              "      <td id=\"T_fa7c8_row1_col12\" class=\"data row1 col12\" >1.000000</td>\n",
              "    </tr>\n",
              "    <tr>\n",
              "      <th id=\"T_fa7c8_level0_row2\" class=\"row_heading level0 row2\" >894276</th>\n",
              "      <td id=\"T_fa7c8_row2_col0\" class=\"data row2 col0\" >380228457</td>\n",
              "      <td id=\"T_fa7c8_row2_col1\" class=\"data row2 col1\" >NEWLINE_TOKENNEWLINE_TOKENExplanation: Toddst1, you blocked me when it was completely clear that the community had rejected your one-sided interaction ban as completely ineffective1 2 3 4 5 and your behaviour has been completely one sided considering you had completely ignored similar behaviour on GPM's part here, here, here and here even when I brought it to your attention on your talk page and then advised me to go to ANI 3 afterwards when you blocked me for following your advice1. This is a massive abuse of admin power to further a content dispute in favor of his proteges and a perfect example of WP:GAME, and what's wrong with wikipedia.</td>\n",
              "      <td id=\"T_fa7c8_row2_col2\" class=\"data row2 col2\" >2010</td>\n",
              "      <td id=\"T_fa7c8_row2_col3\" class=\"data row2 col3\" >True</td>\n",
              "      <td id=\"T_fa7c8_row2_col4\" class=\"data row2 col4\" >user</td>\n",
              "      <td id=\"T_fa7c8_row2_col5\" class=\"data row2 col5\" >blocked</td>\n",
              "      <td id=\"T_fa7c8_row2_col6\" class=\"data row2 col6\" >train</td>\n",
              "      <td id=\"T_fa7c8_row2_col7\" class=\"data row2 col7\" >668</td>\n",
              "      <td id=\"T_fa7c8_row2_col8\" class=\"data row2 col8\" >0.000000</td>\n",
              "      <td id=\"T_fa7c8_row2_col9\" class=\"data row2 col9\" >0.000000</td>\n",
              "      <td id=\"T_fa7c8_row2_col10\" class=\"data row2 col10\" >0.000000</td>\n",
              "      <td id=\"T_fa7c8_row2_col11\" class=\"data row2 col11\" >1.000000</td>\n",
              "      <td id=\"T_fa7c8_row2_col12\" class=\"data row2 col12\" >1.000000</td>\n",
              "    </tr>\n",
              "    <tr>\n",
              "      <th id=\"T_fa7c8_level0_row3\" class=\"row_heading level0 row3\" >899977</th>\n",
              "      <td id=\"T_fa7c8_row3_col0\" class=\"data row3 col0\" >383525220</td>\n",
              "      <td id=\"T_fa7c8_row3_col1\" class=\"data row3 col1\" >NEWLINE_TOKENNEWLINE_TOKEN== Comeuppance ==NEWLINE_TOKENNEWLINE_TOKENYou are going to get yours, mark my words!   </td>\n",
              "      <td id=\"T_fa7c8_row3_col2\" class=\"data row3 col2\" >2010</td>\n",
              "      <td id=\"T_fa7c8_row3_col3\" class=\"data row3 col3\" >False</td>\n",
              "      <td id=\"T_fa7c8_row3_col4\" class=\"data row3 col4\" >user</td>\n",
              "      <td id=\"T_fa7c8_row3_col5\" class=\"data row3 col5\" >blocked</td>\n",
              "      <td id=\"T_fa7c8_row3_col6\" class=\"data row3 col6\" >test</td>\n",
              "      <td id=\"T_fa7c8_row3_col7\" class=\"data row3 col7\" >193</td>\n",
              "      <td id=\"T_fa7c8_row3_col8\" class=\"data row3 col8\" >0.000000</td>\n",
              "      <td id=\"T_fa7c8_row3_col9\" class=\"data row3 col9\" >0.000000</td>\n",
              "      <td id=\"T_fa7c8_row3_col10\" class=\"data row3 col10\" >0.000000</td>\n",
              "      <td id=\"T_fa7c8_row3_col11\" class=\"data row3 col11\" >0.000000</td>\n",
              "      <td id=\"T_fa7c8_row3_col12\" class=\"data row3 col12\" >0.000000</td>\n",
              "    </tr>\n",
              "    <tr>\n",
              "      <th id=\"T_fa7c8_level0_row4\" class=\"row_heading level0 row4\" >519451</th>\n",
              "      <td id=\"T_fa7c8_row4_col0\" class=\"data row4 col0\" >199507660</td>\n",
              "      <td id=\"T_fa7c8_row4_col1\" class=\"data row4 col1\" >NEWLINE_TOKENNEWLINE_TOKENLeave me the fuck alone NOW. I have ahd it with you. -  </td>\n",
              "      <td id=\"T_fa7c8_row4_col2\" class=\"data row4 col2\" >2008</td>\n",
              "      <td id=\"T_fa7c8_row4_col3\" class=\"data row4 col3\" >True</td>\n",
              "      <td id=\"T_fa7c8_row4_col4\" class=\"data row4 col4\" >user</td>\n",
              "      <td id=\"T_fa7c8_row4_col5\" class=\"data row4 col5\" >blocked</td>\n",
              "      <td id=\"T_fa7c8_row4_col6\" class=\"data row4 col6\" >train</td>\n",
              "      <td id=\"T_fa7c8_row4_col7\" class=\"data row4 col7\" >3554</td>\n",
              "      <td id=\"T_fa7c8_row4_col8\" class=\"data row4 col8\" >0.000000</td>\n",
              "      <td id=\"T_fa7c8_row4_col9\" class=\"data row4 col9\" >1.000000</td>\n",
              "      <td id=\"T_fa7c8_row4_col10\" class=\"data row4 col10\" >0.000000</td>\n",
              "      <td id=\"T_fa7c8_row4_col11\" class=\"data row4 col11\" >0.000000</td>\n",
              "      <td id=\"T_fa7c8_row4_col12\" class=\"data row4 col12\" >1.000000</td>\n",
              "    </tr>\n",
              "  </tbody>\n",
              "</table>\n"
            ],
            "text/plain": [
              "<pandas.io.formats.style.Styler at 0x17e5d84f100>"
            ]
          },
          "execution_count": 4,
          "metadata": {},
          "output_type": "execute_result"
        }
      ],
      "source": [
        "data.sample(5).style.set_properties(\n",
        "    **{\n",
        "        'background-color': 'cyan',\n",
        "        'color': 'black',\n",
        "        'border-color': 'darkblack'\n",
        "    })"
      ]
    },
    {
      "cell_type": "code",
      "execution_count": null,
      "id": "cc64abd0",
      "metadata": {
        "id": "cc64abd0",
        "outputId": "04f7882c-19b4-41fb-81f7-66cbde69c468"
      },
      "outputs": [
        {
          "data": {
            "text/plain": [
              "rev_id                0\n",
              "comment               0\n",
              "year                  0\n",
              "logged_in             0\n",
              "ns                    0\n",
              "sample                0\n",
              "split                 0\n",
              "worker_id             0\n",
              "quoting_attack        0\n",
              "recipient_attack      0\n",
              "third_party_attack    0\n",
              "other_attack          0\n",
              "attack                0\n",
              "dtype: int64"
            ]
          },
          "execution_count": 5,
          "metadata": {},
          "output_type": "execute_result"
        }
      ],
      "source": [
        "data.isnull().sum()"
      ]
    },
    {
      "cell_type": "code",
      "execution_count": null,
      "id": "5f686706",
      "metadata": {
        "id": "5f686706",
        "outputId": "34438207-0d5c-4ca5-d947-ec8619c6ca9b"
      },
      "outputs": [
        {
          "name": "stdout",
          "output_type": "stream",
          "text": [
            "No duplicate values found.\n"
          ]
        }
      ],
      "source": [
        "import pandas as pd\n",
        "\n",
        "def remove_duplicates_from_csv(input_file):\n",
        "    before_count = len(data)\n",
        "    data.drop_duplicates(inplace=True)\n",
        "    after_count = len(data)\n",
        "\n",
        "    # Save the changes to the same CSV file\n",
        "    data.to_csv(input_file, index=False)\n",
        "\n",
        "    if after_count < before_count:\n",
        "        print(\"Duplicate values were removed.\")\n",
        "    else:\n",
        "        print(\"No duplicate values found.\")\n",
        "\n",
        "# Example usage\n",
        "input_file = 'data.csv'\n",
        "remove_duplicates_from_csv(input_file)\n"
      ]
    },
    {
      "cell_type": "code",
      "execution_count": null,
      "id": "8c6fe683",
      "metadata": {
        "id": "8c6fe683",
        "outputId": "2572b44d-e8b8-4ace-c26c-537db1d58404"
      },
      "outputs": [
        {
          "data": {
            "text/html": [
              "<style type=\"text/css\">\n",
              "#T_0d5f8_row0_col0, #T_0d5f8_row1_col1, #T_0d5f8_row1_col2, #T_0d5f8_row1_col3, #T_0d5f8_row1_col4, #T_0d5f8_row1_col5, #T_0d5f8_row1_col6, #T_0d5f8_row1_col7, #T_0d5f8_row2_col1, #T_0d5f8_row2_col2, #T_0d5f8_row2_col3, #T_0d5f8_row2_col4, #T_0d5f8_row2_col5, #T_0d5f8_row2_col6, #T_0d5f8_row2_col7, #T_0d5f8_row3_col0, #T_0d5f8_row3_col1, #T_0d5f8_row3_col2, #T_0d5f8_row3_col3, #T_0d5f8_row3_col4, #T_0d5f8_row3_col5, #T_0d5f8_row3_col6, #T_0d5f8_row3_col7, #T_0d5f8_row4_col1, #T_0d5f8_row4_col2, #T_0d5f8_row4_col3, #T_0d5f8_row4_col4, #T_0d5f8_row4_col5, #T_0d5f8_row4_col6, #T_0d5f8_row4_col7, #T_0d5f8_row5_col1, #T_0d5f8_row5_col2, #T_0d5f8_row5_col3, #T_0d5f8_row5_col4, #T_0d5f8_row5_col5, #T_0d5f8_row5_col6, #T_0d5f8_row5_col7, #T_0d5f8_row6_col1, #T_0d5f8_row6_col2, #T_0d5f8_row6_col3, #T_0d5f8_row6_col4, #T_0d5f8_row6_col5, #T_0d5f8_row6_col6, #T_0d5f8_row6_col7, #T_0d5f8_row7_col1, #T_0d5f8_row7_col2, #T_0d5f8_row7_col3, #T_0d5f8_row7_col4, #T_0d5f8_row7_col5, #T_0d5f8_row7_col6, #T_0d5f8_row7_col7 {\n",
              "  background-color: #8000ff;\n",
              "  color: #f1f1f1;\n",
              "}\n",
              "#T_0d5f8_row0_col1, #T_0d5f8_row0_col2, #T_0d5f8_row0_col3, #T_0d5f8_row0_col4, #T_0d5f8_row0_col5, #T_0d5f8_row0_col6, #T_0d5f8_row0_col7, #T_0d5f8_row7_col0 {\n",
              "  background-color: #ff0000;\n",
              "  color: #f1f1f1;\n",
              "}\n",
              "#T_0d5f8_row1_col0 {\n",
              "  background-color: #5af8c8;\n",
              "  color: #000000;\n",
              "}\n",
              "#T_0d5f8_row2_col0 {\n",
              "  background-color: #10c6e6;\n",
              "  color: #000000;\n",
              "}\n",
              "#T_0d5f8_row4_col0 {\n",
              "  background-color: #2489f5;\n",
              "  color: #f1f1f1;\n",
              "}\n",
              "#T_0d5f8_row5_col0 {\n",
              "  background-color: #44eed2;\n",
              "  color: #000000;\n",
              "}\n",
              "#T_0d5f8_row6_col0 {\n",
              "  background-color: #cee184;\n",
              "  color: #000000;\n",
              "}\n",
              "</style>\n",
              "<table id=\"T_0d5f8\">\n",
              "  <thead>\n",
              "    <tr>\n",
              "      <th class=\"blank level0\" >&nbsp;</th>\n",
              "      <th id=\"T_0d5f8_level0_col0\" class=\"col_heading level0 col0\" >rev_id</th>\n",
              "      <th id=\"T_0d5f8_level0_col1\" class=\"col_heading level0 col1\" >year</th>\n",
              "      <th id=\"T_0d5f8_level0_col2\" class=\"col_heading level0 col2\" >worker_id</th>\n",
              "      <th id=\"T_0d5f8_level0_col3\" class=\"col_heading level0 col3\" >quoting_attack</th>\n",
              "      <th id=\"T_0d5f8_level0_col4\" class=\"col_heading level0 col4\" >recipient_attack</th>\n",
              "      <th id=\"T_0d5f8_level0_col5\" class=\"col_heading level0 col5\" >third_party_attack</th>\n",
              "      <th id=\"T_0d5f8_level0_col6\" class=\"col_heading level0 col6\" >other_attack</th>\n",
              "      <th id=\"T_0d5f8_level0_col7\" class=\"col_heading level0 col7\" >attack</th>\n",
              "    </tr>\n",
              "  </thead>\n",
              "  <tbody>\n",
              "    <tr>\n",
              "      <th id=\"T_0d5f8_level0_row0\" class=\"row_heading level0 row0\" >count</th>\n",
              "      <td id=\"T_0d5f8_row0_col0\" class=\"data row0 col0\" >1365217.000000</td>\n",
              "      <td id=\"T_0d5f8_row0_col1\" class=\"data row0 col1\" >1365217.000000</td>\n",
              "      <td id=\"T_0d5f8_row0_col2\" class=\"data row0 col2\" >1365217.000000</td>\n",
              "      <td id=\"T_0d5f8_row0_col3\" class=\"data row0 col3\" >1365217.000000</td>\n",
              "      <td id=\"T_0d5f8_row0_col4\" class=\"data row0 col4\" >1365217.000000</td>\n",
              "      <td id=\"T_0d5f8_row0_col5\" class=\"data row0 col5\" >1365217.000000</td>\n",
              "      <td id=\"T_0d5f8_row0_col6\" class=\"data row0 col6\" >1365217.000000</td>\n",
              "      <td id=\"T_0d5f8_row0_col7\" class=\"data row0 col7\" >1365217.000000</td>\n",
              "    </tr>\n",
              "    <tr>\n",
              "      <th id=\"T_0d5f8_level0_row1\" class=\"row_heading level0 row1\" >mean</th>\n",
              "      <td id=\"T_0d5f8_row1_col0\" class=\"data row1 col0\" >299974474.465235</td>\n",
              "      <td id=\"T_0d5f8_row1_col1\" class=\"data row1 col1\" >2009.219187</td>\n",
              "      <td id=\"T_0d5f8_row1_col2\" class=\"data row1 col2\" >1339.285722</td>\n",
              "      <td id=\"T_0d5f8_row1_col3\" class=\"data row1 col3\" >0.007525</td>\n",
              "      <td id=\"T_0d5f8_row1_col4\" class=\"data row1 col4\" >0.111782</td>\n",
              "      <td id=\"T_0d5f8_row1_col5\" class=\"data row1 col5\" >0.032648</td>\n",
              "      <td id=\"T_0d5f8_row1_col6\" class=\"data row1 col6\" >0.032318</td>\n",
              "      <td id=\"T_0d5f8_row1_col7\" class=\"data row1 col7\" >0.166960</td>\n",
              "    </tr>\n",
              "    <tr>\n",
              "      <th id=\"T_0d5f8_level0_row2\" class=\"row_heading level0 row2\" >std</th>\n",
              "      <td id=\"T_0d5f8_row2_col0\" class=\"data row2 col0\" >198421440.652275</td>\n",
              "      <td id=\"T_0d5f8_row2_col1\" class=\"data row2 col1\" >2.900762</td>\n",
              "      <td id=\"T_0d5f8_row2_col2\" class=\"data row2 col2\" >1053.386638</td>\n",
              "      <td id=\"T_0d5f8_row2_col3\" class=\"data row2 col3\" >0.086419</td>\n",
              "      <td id=\"T_0d5f8_row2_col4\" class=\"data row2 col4\" >0.315098</td>\n",
              "      <td id=\"T_0d5f8_row2_col5\" class=\"data row2 col5\" >0.177712</td>\n",
              "      <td id=\"T_0d5f8_row2_col6\" class=\"data row2 col6\" >0.176843</td>\n",
              "      <td id=\"T_0d5f8_row2_col7\" class=\"data row2 col7\" >0.372940</td>\n",
              "    </tr>\n",
              "    <tr>\n",
              "      <th id=\"T_0d5f8_level0_row3\" class=\"row_heading level0 row3\" >min</th>\n",
              "      <td id=\"T_0d5f8_row3_col0\" class=\"data row3 col0\" >37675.000000</td>\n",
              "      <td id=\"T_0d5f8_row3_col1\" class=\"data row3 col1\" >2001.000000</td>\n",
              "      <td id=\"T_0d5f8_row3_col2\" class=\"data row3 col2\" >0.000000</td>\n",
              "      <td id=\"T_0d5f8_row3_col3\" class=\"data row3 col3\" >0.000000</td>\n",
              "      <td id=\"T_0d5f8_row3_col4\" class=\"data row3 col4\" >0.000000</td>\n",
              "      <td id=\"T_0d5f8_row3_col5\" class=\"data row3 col5\" >0.000000</td>\n",
              "      <td id=\"T_0d5f8_row3_col6\" class=\"data row3 col6\" >0.000000</td>\n",
              "      <td id=\"T_0d5f8_row3_col7\" class=\"data row3 col7\" >0.000000</td>\n",
              "    </tr>\n",
              "    <tr>\n",
              "      <th id=\"T_0d5f8_level0_row4\" class=\"row_heading level0 row4\" >25%</th>\n",
              "      <td id=\"T_0d5f8_row4_col0\" class=\"data row4 col0\" >126867740.000000</td>\n",
              "      <td id=\"T_0d5f8_row4_col1\" class=\"data row4 col1\" >2007.000000</td>\n",
              "      <td id=\"T_0d5f8_row4_col2\" class=\"data row4 col2\" >445.000000</td>\n",
              "      <td id=\"T_0d5f8_row4_col3\" class=\"data row4 col3\" >0.000000</td>\n",
              "      <td id=\"T_0d5f8_row4_col4\" class=\"data row4 col4\" >0.000000</td>\n",
              "      <td id=\"T_0d5f8_row4_col5\" class=\"data row4 col5\" >0.000000</td>\n",
              "      <td id=\"T_0d5f8_row4_col6\" class=\"data row4 col6\" >0.000000</td>\n",
              "      <td id=\"T_0d5f8_row4_col7\" class=\"data row4 col7\" >0.000000</td>\n",
              "    </tr>\n",
              "    <tr>\n",
              "      <th id=\"T_0d5f8_level0_row5\" class=\"row_heading level0 row5\" >50%</th>\n",
              "      <td id=\"T_0d5f8_row5_col0\" class=\"data row5 col0\" >269997593.000000</td>\n",
              "      <td id=\"T_0d5f8_row5_col1\" class=\"data row5 col1\" >2009.000000</td>\n",
              "      <td id=\"T_0d5f8_row5_col2\" class=\"data row5 col2\" >1079.000000</td>\n",
              "      <td id=\"T_0d5f8_row5_col3\" class=\"data row5 col3\" >0.000000</td>\n",
              "      <td id=\"T_0d5f8_row5_col4\" class=\"data row5 col4\" >0.000000</td>\n",
              "      <td id=\"T_0d5f8_row5_col5\" class=\"data row5 col5\" >0.000000</td>\n",
              "      <td id=\"T_0d5f8_row5_col6\" class=\"data row5 col6\" >0.000000</td>\n",
              "      <td id=\"T_0d5f8_row5_col7\" class=\"data row5 col7\" >0.000000</td>\n",
              "    </tr>\n",
              "    <tr>\n",
              "      <th id=\"T_0d5f8_level0_row6\" class=\"row_heading level0 row6\" >75%</th>\n",
              "      <td id=\"T_0d5f8_row6_col0\" class=\"data row6 col0\" >459291144.000000</td>\n",
              "      <td id=\"T_0d5f8_row6_col1\" class=\"data row6 col1\" >2011.000000</td>\n",
              "      <td id=\"T_0d5f8_row6_col2\" class=\"data row6 col2\" >2062.000000</td>\n",
              "      <td id=\"T_0d5f8_row6_col3\" class=\"data row6 col3\" >0.000000</td>\n",
              "      <td id=\"T_0d5f8_row6_col4\" class=\"data row6 col4\" >0.000000</td>\n",
              "      <td id=\"T_0d5f8_row6_col5\" class=\"data row6 col5\" >0.000000</td>\n",
              "      <td id=\"T_0d5f8_row6_col6\" class=\"data row6 col6\" >0.000000</td>\n",
              "      <td id=\"T_0d5f8_row6_col7\" class=\"data row6 col7\" >0.000000</td>\n",
              "    </tr>\n",
              "    <tr>\n",
              "      <th id=\"T_0d5f8_level0_row7\" class=\"row_heading level0 row7\" >max</th>\n",
              "      <td id=\"T_0d5f8_row7_col0\" class=\"data row7 col0\" >699897151.000000</td>\n",
              "      <td id=\"T_0d5f8_row7_col1\" class=\"data row7 col1\" >2016.000000</td>\n",
              "      <td id=\"T_0d5f8_row7_col2\" class=\"data row7 col2\" >4052.000000</td>\n",
              "      <td id=\"T_0d5f8_row7_col3\" class=\"data row7 col3\" >1.000000</td>\n",
              "      <td id=\"T_0d5f8_row7_col4\" class=\"data row7 col4\" >1.000000</td>\n",
              "      <td id=\"T_0d5f8_row7_col5\" class=\"data row7 col5\" >1.000000</td>\n",
              "      <td id=\"T_0d5f8_row7_col6\" class=\"data row7 col6\" >1.000000</td>\n",
              "      <td id=\"T_0d5f8_row7_col7\" class=\"data row7 col7\" >1.000000</td>\n",
              "    </tr>\n",
              "  </tbody>\n",
              "</table>\n"
            ],
            "text/plain": [
              "<pandas.io.formats.style.Styler at 0x17e017050f0>"
            ]
          },
          "execution_count": 8,
          "metadata": {},
          "output_type": "execute_result"
        }
      ],
      "source": [
        "data.describe().style.background_gradient(cmap='rainbow')"
      ]
    },
    {
      "cell_type": "code",
      "execution_count": null,
      "id": "34c03e9a",
      "metadata": {
        "id": "34c03e9a",
        "outputId": "d3ec183b-965e-4df9-da0d-c05ac818ac46"
      },
      "outputs": [
        {
          "data": {
            "text/html": [
              "<style type=\"text/css\">\n",
              "#T_cf6ba_row0_col0, #T_cf6ba_row1_col1, #T_cf6ba_row1_col2, #T_cf6ba_row1_col3, #T_cf6ba_row1_col4, #T_cf6ba_row1_col5, #T_cf6ba_row1_col6, #T_cf6ba_row1_col7, #T_cf6ba_row2_col1, #T_cf6ba_row2_col2, #T_cf6ba_row2_col3, #T_cf6ba_row2_col4, #T_cf6ba_row2_col5, #T_cf6ba_row2_col6, #T_cf6ba_row2_col7, #T_cf6ba_row3_col0, #T_cf6ba_row3_col1, #T_cf6ba_row3_col2, #T_cf6ba_row3_col3, #T_cf6ba_row3_col4, #T_cf6ba_row3_col5, #T_cf6ba_row3_col6, #T_cf6ba_row3_col7, #T_cf6ba_row4_col1, #T_cf6ba_row4_col2, #T_cf6ba_row4_col3, #T_cf6ba_row4_col4, #T_cf6ba_row4_col5, #T_cf6ba_row4_col6, #T_cf6ba_row4_col7, #T_cf6ba_row5_col1, #T_cf6ba_row5_col2, #T_cf6ba_row5_col3, #T_cf6ba_row5_col4, #T_cf6ba_row5_col5, #T_cf6ba_row5_col6, #T_cf6ba_row5_col7, #T_cf6ba_row6_col1, #T_cf6ba_row6_col2, #T_cf6ba_row6_col3, #T_cf6ba_row6_col4, #T_cf6ba_row6_col5, #T_cf6ba_row6_col6, #T_cf6ba_row6_col7, #T_cf6ba_row7_col1, #T_cf6ba_row7_col2, #T_cf6ba_row7_col3, #T_cf6ba_row7_col4, #T_cf6ba_row7_col5, #T_cf6ba_row7_col6, #T_cf6ba_row7_col7 {\n",
              "  background-color: #8000ff;\n",
              "  color: #f1f1f1;\n",
              "}\n",
              "#T_cf6ba_row0_col1, #T_cf6ba_row0_col2, #T_cf6ba_row0_col3, #T_cf6ba_row0_col4, #T_cf6ba_row0_col5, #T_cf6ba_row0_col6, #T_cf6ba_row0_col7, #T_cf6ba_row7_col0 {\n",
              "  background-color: #ff0000;\n",
              "  color: #f1f1f1;\n",
              "}\n",
              "#T_cf6ba_row1_col0 {\n",
              "  background-color: #5af8c8;\n",
              "  color: #000000;\n",
              "}\n",
              "#T_cf6ba_row2_col0 {\n",
              "  background-color: #10c6e6;\n",
              "  color: #000000;\n",
              "}\n",
              "#T_cf6ba_row4_col0 {\n",
              "  background-color: #2489f5;\n",
              "  color: #f1f1f1;\n",
              "}\n",
              "#T_cf6ba_row5_col0 {\n",
              "  background-color: #44eed2;\n",
              "  color: #000000;\n",
              "}\n",
              "#T_cf6ba_row6_col0 {\n",
              "  background-color: #cee184;\n",
              "  color: #000000;\n",
              "}\n",
              "</style>\n",
              "<table id=\"T_cf6ba\">\n",
              "  <thead>\n",
              "    <tr>\n",
              "      <th class=\"blank level0\" >&nbsp;</th>\n",
              "      <th id=\"T_cf6ba_level0_col0\" class=\"col_heading level0 col0\" >rev_id</th>\n",
              "      <th id=\"T_cf6ba_level0_col1\" class=\"col_heading level0 col1\" >year</th>\n",
              "      <th id=\"T_cf6ba_level0_col2\" class=\"col_heading level0 col2\" >worker_id</th>\n",
              "      <th id=\"T_cf6ba_level0_col3\" class=\"col_heading level0 col3\" >quoting_attack</th>\n",
              "      <th id=\"T_cf6ba_level0_col4\" class=\"col_heading level0 col4\" >recipient_attack</th>\n",
              "      <th id=\"T_cf6ba_level0_col5\" class=\"col_heading level0 col5\" >third_party_attack</th>\n",
              "      <th id=\"T_cf6ba_level0_col6\" class=\"col_heading level0 col6\" >other_attack</th>\n",
              "      <th id=\"T_cf6ba_level0_col7\" class=\"col_heading level0 col7\" >attack</th>\n",
              "    </tr>\n",
              "  </thead>\n",
              "  <tbody>\n",
              "    <tr>\n",
              "      <th id=\"T_cf6ba_level0_row0\" class=\"row_heading level0 row0\" >count</th>\n",
              "      <td id=\"T_cf6ba_row0_col0\" class=\"data row0 col0\" >1365217.000000</td>\n",
              "      <td id=\"T_cf6ba_row0_col1\" class=\"data row0 col1\" >1365217.000000</td>\n",
              "      <td id=\"T_cf6ba_row0_col2\" class=\"data row0 col2\" >1365217.000000</td>\n",
              "      <td id=\"T_cf6ba_row0_col3\" class=\"data row0 col3\" >1365217.000000</td>\n",
              "      <td id=\"T_cf6ba_row0_col4\" class=\"data row0 col4\" >1365217.000000</td>\n",
              "      <td id=\"T_cf6ba_row0_col5\" class=\"data row0 col5\" >1365217.000000</td>\n",
              "      <td id=\"T_cf6ba_row0_col6\" class=\"data row0 col6\" >1365217.000000</td>\n",
              "      <td id=\"T_cf6ba_row0_col7\" class=\"data row0 col7\" >1365217.000000</td>\n",
              "    </tr>\n",
              "    <tr>\n",
              "      <th id=\"T_cf6ba_level0_row1\" class=\"row_heading level0 row1\" >mean</th>\n",
              "      <td id=\"T_cf6ba_row1_col0\" class=\"data row1 col0\" >299974474.465235</td>\n",
              "      <td id=\"T_cf6ba_row1_col1\" class=\"data row1 col1\" >2009.219187</td>\n",
              "      <td id=\"T_cf6ba_row1_col2\" class=\"data row1 col2\" >1339.285722</td>\n",
              "      <td id=\"T_cf6ba_row1_col3\" class=\"data row1 col3\" >0.007525</td>\n",
              "      <td id=\"T_cf6ba_row1_col4\" class=\"data row1 col4\" >0.111782</td>\n",
              "      <td id=\"T_cf6ba_row1_col5\" class=\"data row1 col5\" >0.032648</td>\n",
              "      <td id=\"T_cf6ba_row1_col6\" class=\"data row1 col6\" >0.032318</td>\n",
              "      <td id=\"T_cf6ba_row1_col7\" class=\"data row1 col7\" >0.166960</td>\n",
              "    </tr>\n",
              "    <tr>\n",
              "      <th id=\"T_cf6ba_level0_row2\" class=\"row_heading level0 row2\" >std</th>\n",
              "      <td id=\"T_cf6ba_row2_col0\" class=\"data row2 col0\" >198421440.652275</td>\n",
              "      <td id=\"T_cf6ba_row2_col1\" class=\"data row2 col1\" >2.900762</td>\n",
              "      <td id=\"T_cf6ba_row2_col2\" class=\"data row2 col2\" >1053.386638</td>\n",
              "      <td id=\"T_cf6ba_row2_col3\" class=\"data row2 col3\" >0.086419</td>\n",
              "      <td id=\"T_cf6ba_row2_col4\" class=\"data row2 col4\" >0.315098</td>\n",
              "      <td id=\"T_cf6ba_row2_col5\" class=\"data row2 col5\" >0.177712</td>\n",
              "      <td id=\"T_cf6ba_row2_col6\" class=\"data row2 col6\" >0.176843</td>\n",
              "      <td id=\"T_cf6ba_row2_col7\" class=\"data row2 col7\" >0.372940</td>\n",
              "    </tr>\n",
              "    <tr>\n",
              "      <th id=\"T_cf6ba_level0_row3\" class=\"row_heading level0 row3\" >min</th>\n",
              "      <td id=\"T_cf6ba_row3_col0\" class=\"data row3 col0\" >37675.000000</td>\n",
              "      <td id=\"T_cf6ba_row3_col1\" class=\"data row3 col1\" >2001.000000</td>\n",
              "      <td id=\"T_cf6ba_row3_col2\" class=\"data row3 col2\" >0.000000</td>\n",
              "      <td id=\"T_cf6ba_row3_col3\" class=\"data row3 col3\" >0.000000</td>\n",
              "      <td id=\"T_cf6ba_row3_col4\" class=\"data row3 col4\" >0.000000</td>\n",
              "      <td id=\"T_cf6ba_row3_col5\" class=\"data row3 col5\" >0.000000</td>\n",
              "      <td id=\"T_cf6ba_row3_col6\" class=\"data row3 col6\" >0.000000</td>\n",
              "      <td id=\"T_cf6ba_row3_col7\" class=\"data row3 col7\" >0.000000</td>\n",
              "    </tr>\n",
              "    <tr>\n",
              "      <th id=\"T_cf6ba_level0_row4\" class=\"row_heading level0 row4\" >25%</th>\n",
              "      <td id=\"T_cf6ba_row4_col0\" class=\"data row4 col0\" >126867740.000000</td>\n",
              "      <td id=\"T_cf6ba_row4_col1\" class=\"data row4 col1\" >2007.000000</td>\n",
              "      <td id=\"T_cf6ba_row4_col2\" class=\"data row4 col2\" >445.000000</td>\n",
              "      <td id=\"T_cf6ba_row4_col3\" class=\"data row4 col3\" >0.000000</td>\n",
              "      <td id=\"T_cf6ba_row4_col4\" class=\"data row4 col4\" >0.000000</td>\n",
              "      <td id=\"T_cf6ba_row4_col5\" class=\"data row4 col5\" >0.000000</td>\n",
              "      <td id=\"T_cf6ba_row4_col6\" class=\"data row4 col6\" >0.000000</td>\n",
              "      <td id=\"T_cf6ba_row4_col7\" class=\"data row4 col7\" >0.000000</td>\n",
              "    </tr>\n",
              "    <tr>\n",
              "      <th id=\"T_cf6ba_level0_row5\" class=\"row_heading level0 row5\" >50%</th>\n",
              "      <td id=\"T_cf6ba_row5_col0\" class=\"data row5 col0\" >269997593.000000</td>\n",
              "      <td id=\"T_cf6ba_row5_col1\" class=\"data row5 col1\" >2009.000000</td>\n",
              "      <td id=\"T_cf6ba_row5_col2\" class=\"data row5 col2\" >1079.000000</td>\n",
              "      <td id=\"T_cf6ba_row5_col3\" class=\"data row5 col3\" >0.000000</td>\n",
              "      <td id=\"T_cf6ba_row5_col4\" class=\"data row5 col4\" >0.000000</td>\n",
              "      <td id=\"T_cf6ba_row5_col5\" class=\"data row5 col5\" >0.000000</td>\n",
              "      <td id=\"T_cf6ba_row5_col6\" class=\"data row5 col6\" >0.000000</td>\n",
              "      <td id=\"T_cf6ba_row5_col7\" class=\"data row5 col7\" >0.000000</td>\n",
              "    </tr>\n",
              "    <tr>\n",
              "      <th id=\"T_cf6ba_level0_row6\" class=\"row_heading level0 row6\" >75%</th>\n",
              "      <td id=\"T_cf6ba_row6_col0\" class=\"data row6 col0\" >459291144.000000</td>\n",
              "      <td id=\"T_cf6ba_row6_col1\" class=\"data row6 col1\" >2011.000000</td>\n",
              "      <td id=\"T_cf6ba_row6_col2\" class=\"data row6 col2\" >2062.000000</td>\n",
              "      <td id=\"T_cf6ba_row6_col3\" class=\"data row6 col3\" >0.000000</td>\n",
              "      <td id=\"T_cf6ba_row6_col4\" class=\"data row6 col4\" >0.000000</td>\n",
              "      <td id=\"T_cf6ba_row6_col5\" class=\"data row6 col5\" >0.000000</td>\n",
              "      <td id=\"T_cf6ba_row6_col6\" class=\"data row6 col6\" >0.000000</td>\n",
              "      <td id=\"T_cf6ba_row6_col7\" class=\"data row6 col7\" >0.000000</td>\n",
              "    </tr>\n",
              "    <tr>\n",
              "      <th id=\"T_cf6ba_level0_row7\" class=\"row_heading level0 row7\" >max</th>\n",
              "      <td id=\"T_cf6ba_row7_col0\" class=\"data row7 col0\" >699897151.000000</td>\n",
              "      <td id=\"T_cf6ba_row7_col1\" class=\"data row7 col1\" >2016.000000</td>\n",
              "      <td id=\"T_cf6ba_row7_col2\" class=\"data row7 col2\" >4052.000000</td>\n",
              "      <td id=\"T_cf6ba_row7_col3\" class=\"data row7 col3\" >1.000000</td>\n",
              "      <td id=\"T_cf6ba_row7_col4\" class=\"data row7 col4\" >1.000000</td>\n",
              "      <td id=\"T_cf6ba_row7_col5\" class=\"data row7 col5\" >1.000000</td>\n",
              "      <td id=\"T_cf6ba_row7_col6\" class=\"data row7 col6\" >1.000000</td>\n",
              "      <td id=\"T_cf6ba_row7_col7\" class=\"data row7 col7\" >1.000000</td>\n",
              "    </tr>\n",
              "  </tbody>\n",
              "</table>\n"
            ],
            "text/plain": [
              "<pandas.io.formats.style.Styler at 0x17a579a0760>"
            ]
          },
          "execution_count": 14,
          "metadata": {},
          "output_type": "execute_result"
        }
      ],
      "source": [
        "data.describe().style.background_gradient(cmap='rainbow')"
      ]
    },
    {
      "cell_type": "code",
      "execution_count": null,
      "id": "46d8ae15",
      "metadata": {
        "id": "46d8ae15",
        "outputId": "860091e1-a223-41b2-9c9f-c900d1de19a5"
      },
      "outputs": [
        {
          "data": {
            "text/plain": [
              "<Axes: >"
            ]
          },
          "execution_count": 9,
          "metadata": {},
          "output_type": "execute_result"
        },
        {
          "data": {
            "image/png": "[encoded data removed]",
            "text/plain": [
              "<Figure size 2000x500 with 1 Axes>"
            ]
          },
          "metadata": {},
          "output_type": "display_data"
        }
      ],
      "source": [
        "data['attack'].plot(figsize=(20,5))"
      ]
    },
    {
      "cell_type": "code",
      "execution_count": null,
      "id": "216c8865",
      "metadata": {
        "id": "216c8865",
        "outputId": "cb4ace04-c32b-4f2d-9628-0800105736e6"
      },
      "outputs": [
        {
          "data": {
            "image/png": "[encoded data removed]",
            "text/plain": [
              "<Figure size 750x300 with 1 Axes>"
            ]
          },
          "metadata": {},
          "output_type": "display_data"
        }
      ],
      "source": [
        "sns.displot(data=data, x=\"recipient_attack\", kde=True, bins = 50,color = \"red\", facecolor = \"#3F7F7F\",height = 3, aspect = 2.5);"
      ]
    },
    {
      "cell_type": "code",
      "execution_count": null,
      "id": "03be8354",
      "metadata": {
        "id": "03be8354",
        "outputId": "862e3b2a-0b44-46f6-a109-0b519058f431"
      },
      "outputs": [
        {
          "data": {
            "image/png": "[encoded data removed]",
            "text/plain": [
              "<Figure size 750x300 with 1 Axes>"
            ]
          },
          "metadata": {},
          "output_type": "display_data"
        }
      ],
      "source": [
        "sns.displot(data=data, x=\"quoting_attack\", kde=True, bins = 50,color = \"red\", facecolor = \"#3F7F7F\",height = 3, aspect = 2.5);"
      ]
    },
    {
      "cell_type": "code",
      "execution_count": null,
      "id": "68433c2b",
      "metadata": {
        "id": "68433c2b",
        "outputId": "f1a05b4b-e94b-4895-ab6d-b7212275ec27"
      },
      "outputs": [
        {
          "data": {
            "image/png": "[encoded data removed]",
            "text/plain": [
              "<Figure size 750x300 with 1 Axes>"
            ]
          },
          "metadata": {},
          "output_type": "display_data"
        }
      ],
      "source": [
        "sns.displot(data=data, x=\"third_party_attack\", kde=True, bins = 50,color = \"red\", facecolor = \"#3F7F7F\",height = 3, aspect = 2.5);"
      ]
    },
    {
      "cell_type": "code",
      "execution_count": null,
      "id": "b4501006",
      "metadata": {
        "id": "b4501006",
        "outputId": "6aecce05-e579-41fd-f013-ec2e0ededb95"
      },
      "outputs": [
        {
          "data": {
            "image/png": "[encoded data removed]",
            "text/plain": [
              "<Figure size 750x300 with 1 Axes>"
            ]
          },
          "metadata": {},
          "output_type": "display_data"
        }
      ],
      "source": [
        "sns.displot(data=data, x=\"other_attack\", kde=True, bins = 50,color = \"red\", facecolor = \"#3F7F7F\",height = 3, aspect = 2.5);"
      ]
    },
    {
      "cell_type": "code",
      "execution_count": null,
      "id": "865e06f5",
      "metadata": {
        "id": "865e06f5"
      },
      "outputs": [],
      "source": [
        "plt.figure(figsize=(16,16))\n",
        "\n",
        "year=[\"2008\"]\n",
        "\n",
        "plt.subplot(411)\n",
        "sns.lineplot(data[data[\"quoting_attack\"].isin(year)].rev_id, label=\"quoting_attack\",color='green');\n",
        "plt.title(\"quoting_attack: {}\".format(rev_id[199507660]) )\n",
        "\n",
        "plt.subplot(412)\n",
        "sns.lineplot(data[data[\"recipient_attack\"].isin(year)].rev, label=\"recipient_attack\",color='green');\n",
        "plt.title(\"recipient_attack : {}\" .format(rev_id[199507660]))\n",
        "\n",
        "plt.tight_layout()\n",
        "plt.show()"
      ]
    },
    {
      "cell_type": "code",
      "execution_count": null,
      "id": "e9ecb222",
      "metadata": {
        "id": "e9ecb222",
        "outputId": "05479e4a-d7a8-4329-ea96-4a977ccbc2eb"
      },
      "outputs": [
        {
          "data": {
            "image/png": "[encoded data removed]",
            "text/plain": [
              "<Figure size 2000x4000 with 2 Axes>"
            ]
          },
          "metadata": {},
          "output_type": "display_data"
        }
      ],
      "source": [
        "solar_irradiation = data.pivot_table(values='rev_id', index='year', columns='attack')\n",
        "\n",
        "def Daywise_plot(data= None, row = None, col = None, title='Attacks'):\n",
        "    cols = data.columns # take all column\n",
        "    gp = plt.figure(figsize=(20,40))\n",
        "\n",
        "    gp.subplots_adjust(wspace=0.2, hspace=0.5)\n",
        "    for i in range(1, len(cols)+1):\n",
        "        ax = gp.add_subplot(row,col, i)\n",
        "        data[cols[i-1]].plot(ax=ax, color='red')\n",
        "        ax.set_title('{} {}'.format(title, cols[i-1]),color='blue')\n",
        "\n",
        "Daywise_plot(data=solar_irradiation, row=6, col=2)"
      ]
    },
    {
      "cell_type": "code",
      "execution_count": null,
      "id": "47d0cc33",
      "metadata": {
        "id": "47d0cc33",
        "outputId": "95980477-0b92-4725-bcb3-0afa3dd177cb"
      },
      "outputs": [
        {
          "data": {
            "text/plain": [
              "2"
            ]
          },
          "execution_count": 13,
          "metadata": {},
          "output_type": "execute_result"
        }
      ],
      "source": [
        "data['attack'].nunique()"
      ]
    },
    {
      "cell_type": "code",
      "execution_count": null,
      "id": "e47a1edb",
      "metadata": {
        "scrolled": true,
        "id": "e47a1edb",
        "outputId": "39c234ee-0282-42d7-a901-77fd4d658b13"
      },
      "outputs": [
        {
          "data": {
            "image/png": "[encoded data removed]",
            "text/plain": [
              "<Figure size 1700x500 with 1 Axes>"
            ]
          },
          "metadata": {},
          "output_type": "display_data"
        }
      ],
      "source": [
        "daily_irradiation = data.groupby('year')['attack'].agg('sum')\n",
        "\n",
        "daily_irradiation.sort_values(ascending=False).plot.bar(figsize=(17,5), legend=True,color='green')\n",
        "plt.title('Attacks')\n",
        "plt.show()"
      ]
    },
    {
      "cell_type": "code",
      "execution_count": null,
      "id": "ab054f9d",
      "metadata": {
        "id": "ab054f9d"
      },
      "outputs": [],
      "source": [
        "sns.lmplot(y=\"attack\",x=\"year\",hue=\"year\",col=\"year\",height=3,col_wrap=4,data=data,fit_reg=True);"
      ]
    },
    {
      "cell_type": "code",
      "execution_count": null,
      "id": "9dd72ae0",
      "metadata": {
        "id": "9dd72ae0"
      },
      "outputs": [],
      "source": []
    },
    {
      "cell_type": "code",
      "execution_count": null,
      "id": "fd7314b8",
      "metadata": {
        "id": "fd7314b8"
      },
      "outputs": [],
      "source": []
    },
    {
      "cell_type": "markdown",
      "id": "7faa1864",
      "metadata": {
        "id": "7faa1864"
      },
      "source": [
        "visualized data"
      ]
    },
    {
      "cell_type": "code",
      "execution_count": null,
      "id": "d327f8d5",
      "metadata": {
        "id": "d327f8d5"
      },
      "outputs": [],
      "source": []
    },
    {
      "cell_type": "code",
      "execution_count": null,
      "id": "cc5ede4d",
      "metadata": {
        "id": "cc5ede4d"
      },
      "outputs": [],
      "source": []
    },
    {
      "cell_type": "code",
      "execution_count": null,
      "id": "b5c637a7",
      "metadata": {
        "id": "b5c637a7"
      },
      "outputs": [],
      "source": []
    },
    {
      "cell_type": "code",
      "execution_count": null,
      "id": "dde7230c",
      "metadata": {
        "id": "dde7230c"
      },
      "outputs": [],
      "source": []
    },
    {
      "cell_type": "code",
      "execution_count": null,
      "id": "5bc5887d",
      "metadata": {
        "id": "5bc5887d"
      },
      "outputs": [],
      "source": []
    },
    {
      "cell_type": "code",
      "execution_count": null,
      "id": "f4b49351",
      "metadata": {
        "id": "f4b49351"
      },
      "outputs": [],
      "source": []
    }
  ],
  "metadata": {
    "kernelspec": {
      "display_name": "Python 3 (ipykernel)",
      "language": "python",
      "name": "python3"
    },
    "language_info": {
      "codemirror_mode": {
        "name": "ipython",
        "version": 3
      },
      "file_extension": ".py",
      "mimetype": "text/x-python",
      "name": "python",
      "nbconvert_exporter": "python",
      "pygments_lexer": "ipython3",
      "version": "3.10.9"
    },
    "colab": {
      "provenance": []
    }
  },
  "nbformat": 4,
  "nbformat_minor": 5
}